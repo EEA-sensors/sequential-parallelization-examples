{
 "cells": [
  {
   "cell_type": "markdown",
   "metadata": {
    "id": "w-A676oSu4HF"
   },
   "source": [
    "# HMM inference and MAP estimation in Gilbert-Elliot channel model \n",
    "## TensorFlow implementation of potential based HMM and the parallel version of it.\n",
    "\n",
    "This notebook implements the algorithms from Ref.[2]\n",
    "\n",
    "[2] S. S. Hassan, S. Särkkä and Á. F. García-Fernández (2021). __Temporal Parallelization of Inference in Hidden Markov Models__. *__IEEE Transactions on Signal Processing__*, Volume: 69, Pages 4875-4887. DOI: [10.1109/TSP.2021.3103338](https://doi.org/10.1109/TSP.2021.3103338)\n",
    "\n"
   ]
  },
  {
   "cell_type": "markdown",
   "metadata": {
    "id": "g8kqzPaGatUu"
   },
   "source": [
    "### Imports and utilities"
   ]
  },
  {
   "cell_type": "code",
   "execution_count": 1,
   "metadata": {
    "id": "vK5Nq0QJu_6j"
   },
   "outputs": [],
   "source": [
    "# Python specific imports that will make our job easier and our code prettier\n",
    "from collections import namedtuple\n",
    "from functools import partial\n",
    "import math\n",
    "import time\n",
    "from tqdm.auto import trange, tqdm\n",
    "\n",
    "\n",
    "# TF specific imports that we will use to code the logic\n",
    "from tensorflow import function\n",
    "import tensorflow as tf\n",
    "import tensorflow_probability as tfp\n",
    "\n",
    "# Auxiliary libraries that we will use to report results and create the data\n",
    "import matplotlib.pyplot as plt\n",
    "import numpy as np\n",
    "import scipy as sc\n",
    "\n",
    "# Utilities\n",
    "mm = tf.linalg.matmul\n",
    "mv = tf.linalg.matvec\n",
    "\n",
    "# device = '/TPU:0'\n",
    "device = '/GPU:0'\n",
    "\n",
    "# check if device is available\n",
    "# tf.test.is_gpu_available()"
   ]
  },
  {
   "cell_type": "markdown",
   "metadata": {
    "id": "WHKrIHFHwy0Z"
   },
   "source": [
    "### Model"
   ]
  },
  {
   "cell_type": "markdown",
   "metadata": {
    "id": "7ZuiV8_QatUw"
   },
   "source": [
    "We consider the Gilbert-Elliot channel model. This is  a classical model used in the transmission of signals in digital communication channels. We consider two inputs: one for input signal and another for channel regime signal. They are binary signals and represented by $b_k$ and $s_k$, respectively. \n",
    "\n",
    "The input signal $b_k$ is flipped by an idependendent error. We can model this as \n",
    "$$\n",
    "y_k = b_k \\oplus v_k\n",
    "$$\n",
    "\n",
    "The regime channel signal $s_k$ is represented as two states hidden Markov model, which can have either a good or a bad channel condition. The good state has a low probability error, while the bad state can have a high probability error. If $v_k = 1$ i.e. an error occurs, where $y_k \\neq b_k$, then\n",
    "\n",
    "- $q_0$ represents the probability of the error in the good state.\n",
    "- $q_1$ represents the probability of the error in the bad state.\n",
    "\n",
    "The transition probability can be represented as\n",
    "\n",
    "- $p_0$: transition from high error state (bad state) to low error state (good state).\n",
    "- $p_1$: transition from low error state (good state) to high error state (bad state).\n",
    "- $p_2$: switching probability of $b_k$.\n",
    "\n",
    "The joint model $x_k = (s_k, b_k)$ is a four-state Markov chain. That is,\n",
    "$$\n",
    "x_k = \\{(0, 0), (0, 1), (1, 0), (1, 1)\\}\n",
    "$$ \n",
    "and encoded as $\\{0, 1, 2, 3\\}$. Our transition and observation matrices are as follows:\n",
    "\n",
    "\n",
    "$$\n",
    "\\Pi = p(x_k \\mid x_{k-1}) = \\begin{pmatrix}\n",
    "(1 - p_0)(1 - p_2) & p_0 (1 - p_2)   & (1 - p_0)p_2        & p_0 p_2 \\\\  \n",
    "p_1 (1 - p_2)      & (1-p_1) (1-p_2) & p_1 p_2             & (1- p_1) p_2 \\\\\n",
    "(1 - p_0)          & p_0 p_2         & (1 - p_0) (1 - p_2) & p_0  (1 - p_2) \\\\\n",
    "p_1 p_2            & (1 - p_1)p_2    & p_1 (1 - p_2)       & (1 - p_1) (1 - p_2)\n",
    "\\end{pmatrix}\n",
    "$$\n",
    "\n",
    "and\n",
    "\n",
    "$$\n",
    "O = p(y_k\\mid x_k) = \\begin{pmatrix}\n",
    "(1 - q_0) & q_0 \\\\\n",
    "(1 - q_1) & q_1 \\\\\n",
    "q_0 & (1 - q_0) \\\\\n",
    "q_1 & (1 - q_1)\n",
    "\\end{pmatrix}\n",
    "$$\n",
    "\n",
    "\n",
    "\n"
   ]
  },
  {
   "cell_type": "code",
   "execution_count": 2,
   "metadata": {
    "id": "GiqvK_b_wHVK"
   },
   "outputs": [],
   "source": [
    "class HMMModel:\n",
    "    def __init__(self, p0=0.03,  p1=0.1, p2=0.05, q0=0.01, q1=0.1):\n",
    "        \"\"\"Gilbert-Elliot channel model.\n",
    "        \n",
    "        :math:``\n",
    "            p0: `P(S_{k+1} = 1 | S_{k} = 0)`\n",
    "            p1: `P(S_{k+1} = 0 | S_{k} = 1)`\n",
    "            p2: `P(B_{k+1} = 1 | B_{k} = 0) = P(B_{k+1} = 0 | B_{k} = 1)`\n",
    "            q0: `P(Y_k != b | B_k = b, S_k = 0)`\n",
    "            q1: `P(Y_k != b | B_k = b, S_k = 1)`\n",
    "        \n",
    "        \"\"\"\n",
    "        # transition matrix\n",
    "        self.np_Pi = np.array([\n",
    "                               [(1-p0)*(1-p2), p0*(1-p2),     (1-p0)*p2,     p0*p2],\n",
    "                               [p1*(1-p2),     (1-p1)*(1-p2), p1*p2,         (1-p1)*p2],\n",
    "                               [(1-p0)*p2,     p0*p2,         (1-p0)*(1-p2), p0*(1-p2)],\n",
    "                               [p1*p2,         (1-p1)*p2,     p1*(1-p2),     (1-p1)*(1-p2)]\n",
    "                               ])\n",
    "        \n",
    "        # observation matrix\n",
    "        self.np_Po = np.array([ \n",
    "                               [(1-q0), q0],\n",
    "                               [(1-q1), q1],\n",
    "                               [q0, (1-q0)],\n",
    "                               [q1, (1-q1)]\n",
    "                            ])\n",
    "\n",
    "        # prior\n",
    "        self.np_prior = np.array([0.25, 0.25, 0.25, 0.25])\n",
    "\n",
    "        # convert to tensor\n",
    "        self.Pi    = tf.convert_to_tensor(self.np_Pi)\n",
    "        self.Po    = tf.convert_to_tensor(self.np_Po)\n",
    "        self.prior = tf.convert_to_tensor(self.np_prior)\n",
    "        \n",
    "        # dimensions\n",
    "        self.Pi_dim = self.Pi.shape[-1]\n",
    "        self.Po_dim = self.Po.shape[-1]\n",
    "        self.prior_dim = self.prior.shape[-1]\n",
    "\n",
    "        # transition, observation, and prior in log-space\n",
    "        self.log_Pi    = tf.math.log(self.Pi)\n",
    "        self.log_Po    = tf.math.log(self.Po)\n",
    "        self.log_prior = tf.math.log(self.prior)\n"
   ]
  },
  {
   "cell_type": "code",
   "execution_count": 3,
   "metadata": {
    "id": "WbLLiUbgbGVW"
   },
   "outputs": [],
   "source": [
    "def catrnd(rng, p):\n",
    "    if p.ndim > 1:\n",
    "        p = p.squeeze()\n",
    "    \n",
    "    return rng.choice(p.shape[0], size=1,  p=p)\n",
    "    \n",
    "\n",
    "def simulate_data(model: HMMModel, steps:int, seed:int=1):\n",
    "    rng = np.random.default_rng(seed)\n",
    "    \n",
    "    X = np.zeros((steps, 1))\n",
    "    Y = np.zeros(steps, dtype=np.int32)\n",
    "    x = catrnd(rng, model.np_prior)\n",
    "    \n",
    "    for k in range(steps):\n",
    "        if k > 0:\n",
    "            x = catrnd(rng, model.np_Pi[x])\n",
    "        y = catrnd(rng, model.np_Po[x])\n",
    "        X[k] = x\n",
    "        Y[k] = y\n",
    "    \n",
    "    return X, Y\n"
   ]
  },
  {
   "cell_type": "markdown",
   "metadata": {
    "id": "Mkl1DYsDbJz2"
   },
   "source": [
    "#### Initialize the parameters"
   ]
  },
  {
   "cell_type": "code",
   "execution_count": 4,
   "metadata": {
    "id": "fjBXhfmWbOBO"
   },
   "outputs": [],
   "source": [
    "log10T = 5\n",
    "nsteps = 100\n",
    "T = np.arange(10 ** log10T)+1"
   ]
  },
  {
   "cell_type": "markdown",
   "metadata": {
    "id": "7sJxl956bkWC"
   },
   "source": [
    "#### Initialize the model"
   ]
  },
  {
   "cell_type": "code",
   "execution_count": 5,
   "metadata": {
    "id": "BtCSf2wWbjuw"
   },
   "outputs": [],
   "source": [
    "model = HMMModel()"
   ]
  },
  {
   "cell_type": "markdown",
   "metadata": {
    "id": "LG2nnFzobs54"
   },
   "source": [
    "#### Simulate the data"
   ]
  },
  {
   "cell_type": "code",
   "execution_count": 6,
   "metadata": {
    "id": "_LJMh9yLbtaV"
   },
   "outputs": [],
   "source": [
    "X,Y = simulate_data(model,10 ** log10T)"
   ]
  },
  {
   "cell_type": "markdown",
   "metadata": {
    "id": "uWLHqO9Vb4Qd"
   },
   "source": [
    "#### Plot the simulated data"
   ]
  },
  {
   "cell_type": "code",
   "execution_count": 7,
   "metadata": {
    "colab": {
     "base_uri": "https://localhost:8080/",
     "height": 297
    },
    "id": "xK3HGrJib3t_",
    "outputId": "5e40afc1-b3bb-4e49-95dd-1daaca9dc48d"
   },
   "outputs": [
    {
     "data": {
      "text/plain": [
       "<matplotlib.legend.Legend at 0x7faac0347c90>"
      ]
     },
     "execution_count": 7,
     "metadata": {},
     "output_type": "execute_result"
    },
    {
     "data": {
      "image/png": "[encoded data removed]",
      "text/plain": [
       "<Figure size 432x288 with 1 Axes>"
      ]
     },
     "metadata": {
      "needs_background": "light"
     },
     "output_type": "display_data"
    }
   ],
   "source": [
    "plt.plot(T[:nsteps], X[:nsteps], '*-', T[:nsteps], Y[:nsteps], 'o--')\n",
    "plt.xlabel('Number of steps')\n",
    "plt.ylabel('States')\n",
    "plt.legend(['True states', 'Observed states'])"
   ]
  },
  {
   "cell_type": "markdown",
   "metadata": {
    "id": "1Ffp-XeIFXM8"
   },
   "source": [
    "### Reference implementations for comparison and debugging\n",
    "Here, we have implemented forward-backward potential based filter-smoother summarized in Algorithm 1 of the article. "
   ]
  },
  {
   "cell_type": "code",
   "execution_count": 8,
   "metadata": {
    "id": "b_WJXy1-Fawx"
   },
   "outputs": [],
   "source": [
    "def ref_fwdbwd_filter_smoother(model, Y):\n",
    "    \"\"\"Reference Forward-Backward Filter and smoother\n",
    "    \n",
    "    Parameters\n",
    "    ----------\n",
    "    model: \n",
    "        HMM model\n",
    "    Y: array_like\n",
    "        Observations\n",
    "    Returns\n",
    "    -------\n",
    "    fest: \n",
    "        filtering estimates\n",
    "    sest: \n",
    "        smoother estimates\n",
    "    all_psi_f: \n",
    "        all forward potentials\n",
    "    all_psi_b: \n",
    "        all backward potentials\n",
    "    \"\"\"\n",
    "    \n",
    "    all_psi_f = np.zeros((Y.shape[0], model.Pi_dim))\n",
    "    fest = np.zeros((Y.shape[0], model.Pi_dim))\n",
    "    for k in range(len(Y)):\n",
    "        if k > 0:\n",
    "            psi   = model.np_Po[:, Y[k]] * model.np_Pi\n",
    "            psi_f = psi_f @ psi\n",
    "        else:\n",
    "            psi_f = model.np_Po[:, Y[k]] * model.np_prior\n",
    "        all_psi_f[k] = psi_f\n",
    "        fest[k] = psi_f / np.sum(psi_f)\n",
    "    \n",
    "    psi_b = np.ones(psi_f.shape)\n",
    "    \n",
    "    all_psi_b = all_psi_f.copy()\n",
    "    all_psi_b[-1] = psi_b\n",
    "    \n",
    "    for k in reversed(range(len(Y)-1)):\n",
    "        psi   = model.np_Po[:,Y[k+1]] * model.np_Pi\n",
    "        psi_b = psi @ psi_b\n",
    "        all_psi_b[k] = psi_b\n",
    "    \n",
    "    sest = []\n",
    "    for f,b in zip(all_psi_f, all_psi_b):\n",
    "        p = f * b\n",
    "        p = p / np.sum(p)\n",
    "        sest.append(p)\n",
    "        \n",
    "    return fest, sest, all_psi_f, all_psi_b"
   ]
  },
  {
   "cell_type": "markdown",
   "metadata": {
    "id": "T6-iEMuqatUy"
   },
   "source": [
    "### Plots for reference Bayesian and  forward-backward filters and smoothers"
   ]
  },
  {
   "cell_type": "code",
   "execution_count": 10,
   "metadata": {
    "colab": {
     "base_uri": "https://localhost:8080/",
     "height": 334
    },
    "id": "ZNh8-XjSs7O6",
    "outputId": "4eb9b873-eaa6-439e-fcae-85785595e0f3"
   },
   "outputs": [
    {
     "name": "stderr",
     "output_type": "stream",
     "text": [
      "/usr/local/lib/python3.7/dist-packages/ipykernel_launcher.py:31: RuntimeWarning: invalid value encountered in true_divide\n",
      "/usr/local/lib/python3.7/dist-packages/ipykernel_launcher.py:46: RuntimeWarning: invalid value encountered in true_divide\n"
     ]
    },
    {
     "name": "stdout",
     "output_type": "stream",
     "text": [
      "\n"
     ]
    },
    {
     "data": {
      "image/png": "[encoded data removed]",
      "text/plain": [
       "<Figure size 432x288 with 4 Axes>"
      ]
     },
     "metadata": {
      "needs_background": "light"
     },
     "output_type": "display_data"
    }
   ],
   "source": [
    "ref_fwdbwd_fs, ref_fwdbwd_ss, ref_fwdbwd_psi_f, ref_fwdbwd_psi_b = ref_fwdbwd_filter_smoother(model, Y)\n",
    "print()\n",
    "plt.clf()\n",
    "plt.subplots_adjust(hspace=.5)\n",
    "for i in range(4):\n",
    "    plt.subplot(2, 2, i+1)\n",
    "    plt.plot(T[:nsteps], [p[i] for p in ref_fwdbwd_fs[:nsteps]], T[:nsteps], [p[i] for p in ref_fwdbwd_ss[:nsteps]])\n",
    "    \n",
    "    plt.title(('State x_k = %d ' % i ))    \n",
    "plt.legend(['Filtering', 'Smoothing'])\n",
    "plt.show()\n"
   ]
  },
  {
   "cell_type": "code",
   "execution_count": 14,
   "metadata": {
    "colab": {
     "base_uri": "https://localhost:8080/"
    },
    "id": "wchn8C20ra1H",
    "outputId": "af451580-41b1-4ef0-a58b-302532660b9a"
   },
   "outputs": [
    {
     "name": "stdout",
     "output_type": "stream",
     "text": [
      "Is Nan? tf.Tensor(True, shape=(), dtype=bool)\n"
     ]
    }
   ],
   "source": [
    "print('Is Nan?', tf.math.is_nan(tf.reduce_sum(ref_fwdbwd_ss)))"
   ]
  },
  {
   "cell_type": "markdown",
   "metadata": {
    "id": "03HAT2p6gc6F"
   },
   "source": [
    "The results of the smoothing distribution contain 'nan' values. Therefore, we were unable to view the smoother result."
   ]
  },
  {
   "cell_type": "markdown",
   "metadata": {
    "id": "nQjmem2ZwHLL"
   },
   "source": [
    "### Utilities for log-space computations\n",
    "\n",
    "\n"
   ]
  },
  {
   "cell_type": "code",
   "execution_count": 15,
   "metadata": {
    "colab": {
     "base_uri": "https://localhost:8080/"
    },
    "id": "5lPjL7LvwMiq",
    "outputId": "969419d5-5935-4254-ce15-6a93aa0d78c7"
   },
   "outputs": [
    {
     "name": "stdout",
     "output_type": "stream",
     "text": [
      "Test utility functions:\n",
      "tf.Tensor(\n",
      "[[1.4257064  1.0391585  0.7607688  1.0484284 ]\n",
      " [0.9447347  0.76951545 0.44059256 0.6164023 ]\n",
      " [0.35811597 0.34018368 0.16159499 0.33705997]\n",
      " [0.75753486 0.5810969  0.41004145 0.6656992 ]], shape=(4, 4), dtype=float32)\n",
      "tf.Tensor(\n",
      "[[1.4257064  1.0391583  0.7607688  1.0484283 ]\n",
      " [0.94473475 0.76951534 0.44059253 0.61640227]\n",
      " [0.35811597 0.3401837  0.161595   0.33705997]\n",
      " [0.75753486 0.58109677 0.41004142 0.6656991 ]], shape=(4, 4), dtype=float32)\n",
      "tf.Tensor([0.5768026  0.33639905 0.15708235 0.353592  ], shape=(4,), dtype=float32)\n",
      "tf.Tensor([0.5768026  0.33639905 0.15708235 0.35359204], shape=(4,), dtype=float32)\n",
      "tf.Tensor([0.5768026  0.3363991  0.15708235 0.35359204], shape=(4,), dtype=float32)\n",
      "tf.Tensor([0.19298144 0.3319118  0.0531239  0.42198285], shape=(4,), dtype=float32)\n",
      "tf.Tensor([0.19298144 0.3319118  0.0531239  0.42198288], shape=(4,), dtype=float32)\n"
     ]
    }
   ],
   "source": [
    "@tf.function\n",
    "def log_mv(log_A, log_b, transpose_a=False):\n",
    "    Amax = tf.reduce_max(log_A, axis=(-1, -2), keepdims=True)\n",
    "    bmax = tf.reduce_max(log_b, axis=(-1), keepdims=True)\n",
    "    return tf.squeeze(Amax, axis=-1) + bmax + tf.math.log(mv(tf.math.exp(log_A - Amax), tf.math.exp(log_b - bmax), transpose_a=transpose_a))\n",
    "\n",
    "@tf.function\n",
    "def semilog_mv(A, log_b, transpose_a=False):\n",
    "    bmax = tf.reduce_max(log_b, axis=(-1), keepdims=True)\n",
    "    return bmax + tf.math.log(mv(A, tf.math.exp(log_b - bmax), transpose_a=transpose_a))\n",
    "\n",
    "@tf.function\n",
    "def log_mm(log_A,log_B,transpose_a=False,transpose_b=False):\n",
    "    Amax = tf.reduce_max(log_A, axis=(-1, -2), keepdims=True)\n",
    "    Bmax = tf.reduce_max(log_B, axis=(-1, -2), keepdims=True)\n",
    "    return Amax + Bmax + tf.math.log(mm(tf.math.exp(log_A - Amax), tf.math.exp(log_B - Bmax), transpose_a=transpose_a, transpose_b=transpose_b))\n",
    "\n",
    "@tf.function\n",
    "def log_normalize(log_p):\n",
    "    pmax = tf.reduce_max(log_p, axis=(-1), keepdims=True)\n",
    "    temp = tf.math.exp(log_p - pmax)\n",
    "    return tf.math.log(temp / tf.reduce_sum(temp, axis=-1, keepdims=True))\n",
    "\n",
    "print('Test utility functions:')\n",
    "with tf.device('/CPU:0'):\n",
    "    tf.random.set_seed(5)\n",
    "    A = tf.random.uniform(shape=[4, 4])\n",
    "    B = tf.random.uniform(shape=[4, 4])\n",
    "    log_A = tf.math.log(A)\n",
    "    log_B = tf.math.log(B)\n",
    "    print(mm(A, B))\n",
    "    print(tf.math.exp(log_mm(log_A, log_B)))\n",
    "\n",
    "    b = tf.random.uniform(shape=[4])\n",
    "    log_b = tf.math.log(b)\n",
    "    print(mv(A, b))\n",
    "    print(tf.math.exp(log_mv(log_A, log_b)))\n",
    "    print(tf.math.exp(semilog_mv(A, log_b)))\n",
    "\n",
    "    print(b / tf.reduce_sum(b, keepdims=True))\n",
    "    print(tf.math.exp(log_normalize(log_b)))\n"
   ]
  },
  {
   "cell_type": "markdown",
   "metadata": {
    "id": "WkV6b5vXhJFB"
   },
   "source": [
    "### Sequential potential based filter and smoother\n",
    "\n",
    "\n",
    "This is done by forward and backward pass.\n",
    "\n",
    "Here, we have implemented forward-backward potential based filter-smoother summarized in Algorithm 1 of the article. This is implemented in tensorflow by leveraging the built-in sequential scan operator. \n",
    "\n"
   ]
  },
  {
   "cell_type": "markdown",
   "metadata": {
    "id": "-JCtZ9JveVwp"
   },
   "source": [
    "#### Forward pass routine"
   ]
  },
  {
   "cell_type": "code",
   "execution_count": 16,
   "metadata": {
    "id": "9p0Be6VkhOq-"
   },
   "outputs": [],
   "source": [
    "@tf.function\n",
    "def potential_forward_pass(model, obs):\n",
    "    def body(carry, y):    \n",
    "        k, p = carry # k is the iteration\n",
    "        p = tf.cond(k > 0, lambda: mv(model.Pi, p, transpose_a=True), lambda: p)\n",
    "        p = model.Po[:, y] * p\n",
    "        return (k+1, p)\n",
    "\n",
    "    ks, psi_f = tf.scan(body, obs, (0, model.prior))\n",
    "    return psi_f\n",
    "\n"
   ]
  },
  {
   "cell_type": "markdown",
   "metadata": {
    "id": "YAp0P7-_ecZu"
   },
   "source": [
    "#### Backward pass routine"
   ]
  },
  {
   "cell_type": "code",
   "execution_count": 17,
   "metadata": {
    "id": "lrRiXRmIebr5"
   },
   "outputs": [],
   "source": [
    "@tf.function\n",
    "def potential_backward_pass(model, obs):\n",
    "    psi_full = tf.expand_dims(model.Po, 0) * tf.expand_dims(model.Pi, -1)\n",
    "\n",
    "    def body(carry, y):\n",
    "        p = carry\n",
    "        psi = psi_full[..., y]\n",
    "        p = mv(psi, p)\n",
    "        return p\n",
    "  \n",
    "    psi_b_end  = tf.ones_like(model.prior)\n",
    "    psi_b_rest = tf.scan(body, obs[1:], psi_b_end, reverse=True)\n",
    "    psi_b = tf.concat([psi_b_rest, tf.expand_dims(psi_b_end, 0)], 0)\n",
    "    return psi_b\n"
   ]
  },
  {
   "cell_type": "markdown",
   "metadata": {
    "id": "VZ1IzQiQeil2"
   },
   "source": [
    "#### Filter-smoother routine"
   ]
  },
  {
   "cell_type": "code",
   "execution_count": 18,
   "metadata": {
    "id": "d5JZTB9KeoqW"
   },
   "outputs": [],
   "source": [
    "@tf.function\n",
    "def potential_smoother(model, obs):\n",
    "    psi_f = potential_forward_pass(model, obs)\n",
    "    psi_b = potential_backward_pass(model, obs)\n",
    "    p = psi_f * psi_b\n",
    "    p = p / tf.reduce_sum(p, axis=-1, keepdims=True)\n",
    "    return p\n"
   ]
  },
  {
   "cell_type": "markdown",
   "metadata": {
    "id": "412gFPLieUfA"
   },
   "source": [
    "#### Test and compare the reference and potential based forward-backward filter-smoothers.\n"
   ]
  },
  {
   "cell_type": "code",
   "execution_count": 19,
   "metadata": {
    "colab": {
     "base_uri": "https://localhost:8080/"
    },
    "id": "h1UPK8GqkEol",
    "outputId": "7b4c92b2-e4ec-49c3-b14b-43c393867b01"
   },
   "outputs": [
    {
     "name": "stdout",
     "output_type": "stream",
     "text": [
      "Difference between forward pass of potential based and reference:  2.7755575615628914e-17\n",
      "Difference between backward pass of potential based and reference:  1.1102230246251565e-16\n",
      "Difference between potential based and reference smoothers:  nan\n"
     ]
    }
   ],
   "source": [
    "with tf.device('/CPU:0'):\n",
    "    psi_f = potential_forward_pass(model, Y)\n",
    "    print('Difference between forward pass of potential based and reference: ', np.abs(psi_f - ref_fwdbwd_psi_f).max())\n",
    "    psi_b = potential_backward_pass(model, Y)\n",
    "    print('Difference between backward pass of potential based and reference: ', np.abs(psi_b - ref_fwdbwd_psi_b).max())\n",
    "    potential_ss = potential_smoother(model, Y)\n",
    "    print('Difference between potential based and reference smoothers: ', np.abs(potential_ss - ref_fwdbwd_ss).max())\n",
    "\n"
   ]
  },
  {
   "cell_type": "markdown",
   "metadata": {
    "id": "XAg3lQP2GiyP"
   },
   "source": [
    "### Log-space sequential potential based filter and smoother"
   ]
  },
  {
   "cell_type": "markdown",
   "metadata": {
    "id": "1xF9uTvDfjdO"
   },
   "source": [
    "#### Forward pass routine"
   ]
  },
  {
   "cell_type": "code",
   "execution_count": 20,
   "metadata": {
    "id": "xBcU0KaUGk-K"
   },
   "outputs": [],
   "source": [
    "@tf.function\n",
    "def log_potential_forward_pass(model, obs):\n",
    "    def body(carry, y):    \n",
    "        k, log_p = carry # k is the iteration\n",
    "        log_p = tf.cond(k > 0, lambda: semilog_mv(model.Pi, log_p, transpose_a=True), lambda: log_p)\n",
    "        log_p = model.log_Po[:, y] + log_p\n",
    "        return (k+1, log_p)\n",
    "\n",
    "    ks, log_psi_f = tf.scan(body, obs, (0, model.log_prior))\n",
    "    return log_psi_f\n",
    "\n"
   ]
  },
  {
   "cell_type": "markdown",
   "metadata": {
    "id": "QteRbRLqfmUO"
   },
   "source": [
    "#### Backward pass routine"
   ]
  },
  {
   "cell_type": "code",
   "execution_count": 21,
   "metadata": {
    "id": "sQz7uCM_fluJ"
   },
   "outputs": [],
   "source": [
    "@tf.function\n",
    "def log_potential_backward_pass(model, obs):\n",
    "    psi_full = tf.expand_dims(model.Po, 0) * tf.expand_dims(model.Pi, -1)\n",
    "\n",
    "    def body(carry, y):\n",
    "        log_p = carry\n",
    "        log_p = semilog_mv(psi_full[..., y], log_p)\n",
    "        return log_p\n",
    "  \n",
    "    log_psi_b_end  = tf.zeros_like(model.log_prior)\n",
    "    log_psi_b_rest = tf.scan(body, obs[1:], log_psi_b_end, reverse=True)\n",
    "    log_psi_b = tf.concat([log_psi_b_rest, tf.expand_dims(log_psi_b_end, 0)], 0)\n",
    "    return log_psi_b\n"
   ]
  },
  {
   "cell_type": "markdown",
   "metadata": {
    "id": "f4aquYVBfoAt"
   },
   "source": [
    "#### Smoother routine"
   ]
  },
  {
   "cell_type": "code",
   "execution_count": 22,
   "metadata": {
    "id": "EHf5Y11HfoR9"
   },
   "outputs": [],
   "source": [
    "@tf.function\n",
    "def log_potential_smoother(model, obs, max_parallel=0):\n",
    "    log_psi_f = log_potential_forward_pass(model, obs)\n",
    "    log_psi_b = log_potential_backward_pass(model, obs)\n",
    "    log_p = log_psi_f + log_psi_b\n",
    "    log_p = log_normalize(log_p)\n",
    "    return log_p"
   ]
  },
  {
   "cell_type": "markdown",
   "metadata": {
    "id": "XuJ0HREafsD9"
   },
   "source": [
    "#### Test sequential potential based smoother routine in log space"
   ]
  },
  {
   "cell_type": "code",
   "execution_count": 23,
   "metadata": {
    "colab": {
     "base_uri": "https://localhost:8080/"
    },
    "id": "zkR_e65vHUVt",
    "outputId": "6bf3a9a7-fb45-4e46-b16a-a15f724adb02"
   },
   "outputs": [
    {
     "name": "stdout",
     "output_type": "stream",
     "text": [
      "Difference between forward and log-space-forward potentials:  8.326672684688674e-17\n",
      "Difference between backward and log-space-backward potentials:  3.3306690738754696e-16\n",
      "Difference between potential based smoothers and log-space-smoothers:  nan\n",
      "Is the result of log-space smoothers contains NaNs?  tf.Tensor(False, shape=(), dtype=bool)\n"
     ]
    }
   ],
   "source": [
    "with tf.device('/CPU:0'):\n",
    "    psi_f = potential_forward_pass(model, Y)\n",
    "    log_psi_f = log_potential_forward_pass(model, Y)\n",
    "    print('Difference between forward and log-space-forward potentials: ', np.abs(psi_f - tf.math.exp(log_psi_f)).max())\n",
    "\n",
    "    psi_b = potential_backward_pass(model, Y)\n",
    "    log_psi_b = log_potential_backward_pass(model, Y)\n",
    "    print('Difference between backward and log-space-backward potentials: ', np.abs(psi_b - tf.math.exp(log_psi_b)).max())\n",
    "\n",
    "    potential_ss = potential_smoother(model, Y)\n",
    "    log_potential_ss = log_potential_smoother(model, Y)\n",
    "    \n",
    "    print('Difference between potential based smoothers and log-space-smoothers: ', np.abs(potential_ss - tf.math.exp(log_potential_ss)).max())\n",
    "    print('Is the result of log-space smoothers contains NaNs? ', tf.math.is_nan(tf.reduce_mean(log_potential_ss)))\n"
   ]
  },
  {
   "cell_type": "markdown",
   "metadata": {
    "id": "S-IIsQRlwqC9"
   },
   "source": [
    "### Parallel potential based filter and smoother\n",
    "\n",
    "We have Sequential Bayesian filter and smoother as a baseline. Now, we implement a parallel version of this. The parallel version is similar to Algorithm 3 described in the paper. However, there are differences with classical parallel hmm (See phmm_classical.ipynb) implementation. Here, we consider potential-based implementation. Moreover, the forward algorithm is equivalent to HMM filtering algorithm. However, the backward algorithm corresponds to backward pass of two-filtering algorithm. "
   ]
  },
  {
   "cell_type": "markdown",
   "metadata": {
    "id": "aU8bhvqRh_c3"
   },
   "source": [
    "#### Forward part"
   ]
  },
  {
   "cell_type": "markdown",
   "metadata": {
    "id": "FuV4CluHiEaG"
   },
   "source": [
    "#### Initialization routine"
   ]
  },
  {
   "cell_type": "code",
   "execution_count": 24,
   "metadata": {
    "id": "EYqDl_T-wu2t"
   },
   "outputs": [],
   "source": [
    "@tf.function\n",
    "def parallel_forward_potential_init_first(model, y):\n",
    "    prior = tf.tile(tf.expand_dims(model.prior, axis=1), [1, model.prior.shape[0]])\n",
    "    psi = tf.multiply(model.Po[:, y], prior)\n",
    "    return psi\n",
    "\n",
    "@tf.function\n",
    "def parallel_forward_potential_init_rest(model, obs):\n",
    "    temp = tf.gather(tf.transpose(model.Po), obs, axis=0)\n",
    "    psi = tf.expand_dims(temp, 1) * tf.expand_dims(model.Pi, 0)\n",
    "    return psi\n",
    "\n",
    "@tf.function\n",
    "def parallel_forward_potential_init(model, obs):\n",
    "    \"\"\"A parallel forward potential init routine to initialize first and generic elements.\n",
    "       \n",
    "    \"\"\"\n",
    "    \n",
    "    first_elem = parallel_forward_potential_init_first(model, obs[0])\n",
    "    generic_elems = parallel_forward_potential_init_rest(model, obs[1:])\n",
    "    return tf.concat([tf.expand_dims(first_elem, 0), generic_elems], axis=0)\n"
   ]
  },
  {
   "cell_type": "markdown",
   "metadata": {
    "id": "_XvWmKuoisHY"
   },
   "source": [
    "#### Potential operator"
   ]
  },
  {
   "cell_type": "code",
   "execution_count": 25,
   "metadata": {
    "id": "MmP1NY_risTf"
   },
   "outputs": [],
   "source": [
    "@tf.function\n",
    "def parallel_potential_op(elemij, elemjk):\n",
    "    \"\"\"A parallel potential operator.\"\"\"\n",
    "    return elemij@elemjk\n"
   ]
  },
  {
   "cell_type": "markdown",
   "metadata": {
    "id": "DRUxwLXQisiX"
   },
   "source": [
    "#### Forward potential routine"
   ]
  },
  {
   "cell_type": "code",
   "execution_count": 26,
   "metadata": {
    "id": "M01_sH8Fiswv"
   },
   "outputs": [],
   "source": [
    "@tf.function\n",
    "def parallel_forward_potential(model, obs,  max_parallel=10000):\n",
    "    \"\"\"A parallel forward potential routine to compute forward potentials.\n",
    "       This function implements Theorem 1 from the paper.\n",
    "    \"\"\"\n",
    "    \n",
    "    initial_elements = parallel_forward_potential_init(model, obs)\n",
    "    final_elements = tfp.math.scan_associative(parallel_potential_op,\n",
    "                                             initial_elements,\n",
    "                                             max_num_levels=math.ceil(math.log2(max_parallel)))\n",
    "    return final_elements[:,0]\n"
   ]
  },
  {
   "cell_type": "markdown",
   "metadata": {
    "id": "3pzn9BdNitAd"
   },
   "source": [
    "#### Backward part"
   ]
  },
  {
   "cell_type": "markdown",
   "metadata": {
    "id": "sOg3hOe4jNqv"
   },
   "source": [
    "#### Backward initialization routine"
   ]
  },
  {
   "cell_type": "code",
   "execution_count": 27,
   "metadata": {
    "id": "TwiMTgzcitJg"
   },
   "outputs": [],
   "source": [
    "@tf.function\n",
    "def parallel_backward_potential_init_last(model):\n",
    "    psi = tf.ones_like(model.Pi)\n",
    "    return psi\n",
    "\n",
    "@tf.function\n",
    "def parallel_backward_potential_init_rest(model, obs):\n",
    "    temp = tf.gather(tf.transpose(model.Po), obs, axis=0)\n",
    "    psi = tf.expand_dims(temp, 1) * tf.expand_dims(model.Pi, 0)\n",
    "    return psi\n",
    "\n",
    "@tf.function\n",
    "def parallel_backward_potential_init(model, obs):\n",
    "    \"\"\"A parallel backward potential init routine to initialize last and generic elements.\"\"\"\n",
    "    \n",
    "    last_elem = parallel_backward_potential_init_last(model)\n",
    "    generic_elems = parallel_backward_potential_init_rest(model, obs[1:])\n",
    "    return tf.concat([generic_elems, tf.expand_dims(last_elem, 0)], axis=0)\n"
   ]
  },
  {
   "cell_type": "markdown",
   "metadata": {
    "id": "BCenogN6joxy"
   },
   "source": [
    "#### Backward potential operator"
   ]
  },
  {
   "cell_type": "code",
   "execution_count": 28,
   "metadata": {
    "id": "a86HF0Fljo9X"
   },
   "outputs": [],
   "source": [
    "@tf.function\n",
    "def parallel_backward_potential_op(elemjk, elemij):\n",
    "    \"\"\"A parallel backward potential operator.\"\"\"\n",
    "    return elemij@elemjk\n"
   ]
  },
  {
   "cell_type": "markdown",
   "metadata": {
    "id": "iR0QG_QQjpKO"
   },
   "source": [
    "#### Backward potential routine"
   ]
  },
  {
   "cell_type": "code",
   "execution_count": 29,
   "metadata": {
    "id": "v-6ix57PjpUe"
   },
   "outputs": [],
   "source": [
    "@tf.function\n",
    "def parallel_backward_potential(model, obs,  max_parallel=100000):\n",
    "    \"\"\"A parallel backward potential routine to compute backward elements.\n",
    "       This function implements Theorem 2 from the paper.\n",
    "    \"\"\"\n",
    "    \n",
    "    initial_elements = parallel_backward_potential_init(model, obs)\n",
    "    reversed_elements = tf.reverse(initial_elements, axis=[0])\n",
    "    final_elements = tfp.math.scan_associative(parallel_backward_potential_op,\n",
    "                                             reversed_elements,\n",
    "                                             max_num_levels=math.ceil(math.log2(max_parallel)))\n",
    "    final_elements = tf.reverse(final_elements, axis=[0])\n",
    "    return final_elements[:, :, 0]\n",
    "\n",
    "\n"
   ]
  },
  {
   "cell_type": "markdown",
   "metadata": {
    "id": "Y-SoS_5ZjpeW"
   },
   "source": [
    "#### Parallel potential routine"
   ]
  },
  {
   "cell_type": "code",
   "execution_count": 30,
   "metadata": {
    "id": "piTr3lHUjpm4"
   },
   "outputs": [],
   "source": [
    "@tf.function\n",
    "def parallel_potential_smoother(model, obs,  max_parallel=10000):\n",
    "    \"\"\"A parallel potential smoother routine to compute forward and backward elements.\n",
    "       See Eq. (22) from the paper.\n",
    "    \"\"\"\n",
    "    \n",
    "    psi_f = parallel_forward_potential(model, obs, max_parallel)\n",
    "    psi_b = parallel_backward_potential(model, obs, max_parallel)\n",
    "    sest = psi_f * psi_b\n",
    "    sest = sest / tf.reduce_sum(sest, axis=1, keepdims=True)\n",
    "    return sest"
   ]
  },
  {
   "cell_type": "code",
   "execution_count": 31,
   "metadata": {
    "colab": {
     "base_uri": "https://localhost:8080/"
    },
    "id": "d5DszmzmxBIX",
    "outputId": "7b4ff3b9-0802-461e-aba2-23eea1cffc45"
   },
   "outputs": [
    {
     "name": "stdout",
     "output_type": "stream",
     "text": [
      "Difference between reference and parallel forward potentials:  1.3877787807814457e-17\n",
      "Difference between reference and parallel backward potentials:  1.1102230246251565e-16\n",
      "Difference between reference and parallel smoothers:  nan\n"
     ]
    }
   ],
   "source": [
    "with tf.device('/CPU:0'):\n",
    "    psi_f = parallel_forward_potential(model, Y, max_parallel=100000)\n",
    "    print('Difference between reference and parallel forward potentials: ', np.abs(psi_f - ref_fwdbwd_psi_f).max())\n",
    "    psi_b = parallel_backward_potential(model, Y, max_parallel=100000)\n",
    "    print('Difference between reference and parallel backward potentials: ', np.abs(psi_b - ref_fwdbwd_psi_b).max())\n",
    "    potential_ss = parallel_potential_smoother(model, Y, max_parallel=100000)\n",
    "    print('Difference between reference and parallel smoothers: ', np.abs(potential_ss - ref_fwdbwd_ss).max())\n"
   ]
  },
  {
   "cell_type": "markdown",
   "metadata": {
    "id": "YoIo52PGJmqy"
   },
   "source": [
    "### Log-space parallel potential based filter and smoother"
   ]
  },
  {
   "cell_type": "markdown",
   "metadata": {
    "id": "subNyV0YkyVC"
   },
   "source": [
    "#### Forward part"
   ]
  },
  {
   "cell_type": "markdown",
   "metadata": {
    "id": "_BjIapsRkzVz"
   },
   "source": [
    "#### Initialization routine"
   ]
  },
  {
   "cell_type": "code",
   "execution_count": 32,
   "metadata": {
    "id": "k3FUeU9DJ9zW"
   },
   "outputs": [],
   "source": [
    "@tf.function\n",
    "def log_parallel_forward_potential_init_first(model, y):\n",
    "    return tf.math.log(parallel_forward_potential_init_first(model, y))\n",
    "\n",
    "@tf.function\n",
    "def log_parallel_forward_potential_init_rest(model, obs):\n",
    "    return tf.math.log(parallel_forward_potential_init_rest(model, obs))\n",
    "\n",
    "@tf.function\n",
    "def log_parallel_forward_potential_init(model, obs):\n",
    "    \"\"\"A parallel forward potential routine in log space to initialize first and generic elements.\"\"\"\n",
    "    \n",
    "    first_elem = log_parallel_forward_potential_init_first(model, obs[0])\n",
    "    generic_elems = log_parallel_forward_potential_init_rest(model, obs[1:])\n",
    "    return tf.concat([tf.expand_dims(first_elem, 0), generic_elems], axis=0)\n"
   ]
  },
  {
   "cell_type": "markdown",
   "metadata": {
    "id": "YSyPR9E-lt6V"
   },
   "source": [
    "#### Potential operator"
   ]
  },
  {
   "cell_type": "code",
   "execution_count": 33,
   "metadata": {
    "id": "7fFLG0bOluBc"
   },
   "outputs": [],
   "source": [
    "@tf.function\n",
    "def log_parallel_potential_op(elemij, elemjk):\n",
    "    \"\"\"A parallel potential operator in log space.\"\"\"\n",
    "    \n",
    "    return log_mm(elemij,elemjk)\n"
   ]
  },
  {
   "cell_type": "markdown",
   "metadata": {
    "id": "dtKSIBDvluIf"
   },
   "source": [
    "#### Parallel forward potential"
   ]
  },
  {
   "cell_type": "code",
   "execution_count": 34,
   "metadata": {
    "id": "lbXbe0YGluPb"
   },
   "outputs": [],
   "source": [
    "@tf.function\n",
    "def log_parallel_forward_potential(model, obs,  max_parallel=100000):\n",
    "    \"\"\"A parallel forward potential routine to compute forward elements in log space.\"\"\"\n",
    "    \n",
    "    initial_elements = log_parallel_forward_potential_init(model, obs)\n",
    "    final_elements = tfp.math.scan_associative(log_parallel_potential_op,\n",
    "                                             initial_elements,\n",
    "                                             max_num_levels=math.ceil(math.log2(max_parallel)))\n",
    "    return final_elements[:,0]\n"
   ]
  },
  {
   "cell_type": "markdown",
   "metadata": {
    "id": "wQm4EYJAluV0"
   },
   "source": [
    "#### Backward part"
   ]
  },
  {
   "cell_type": "markdown",
   "metadata": {
    "id": "fciK-Y2_m4JC"
   },
   "source": [
    "#### Initialization routines"
   ]
  },
  {
   "cell_type": "code",
   "execution_count": 35,
   "metadata": {
    "id": "4eY2A59JlugH"
   },
   "outputs": [],
   "source": [
    "@tf.function\n",
    "def log_parallel_backward_potential_init_last(model):\n",
    "    log_psi = tf.zeros_like(model.Pi)\n",
    "    return log_psi\n",
    "\n",
    "@tf.function\n",
    "def log_parallel_backward_potential_init_rest(model, obs):\n",
    "    temp = tf.gather(tf.transpose(model.log_Po), obs, axis=0)\n",
    "    log_psi = tf.expand_dims(temp, 1) + tf.expand_dims(model.log_Pi, 0)\n",
    "    return log_psi\n",
    "\n",
    "@tf.function\n",
    "def log_parallel_backward_potential_init(model, obs):\n",
    "    \"\"\"A parallel backward potential init routine to initialize backward elements in log space.\"\"\"\n",
    "    \n",
    "    last_elem = log_parallel_backward_potential_init_last(model)\n",
    "    generic_elems = log_parallel_backward_potential_init_rest(model, obs[1:])\n",
    "    return tf.concat([generic_elems, tf.expand_dims(last_elem, 0)], axis=0)"
   ]
  },
  {
   "cell_type": "markdown",
   "metadata": {
    "id": "W2fl8FZGlum4"
   },
   "source": [
    "#### Backward potential operator"
   ]
  },
  {
   "cell_type": "code",
   "execution_count": 36,
   "metadata": {
    "id": "5twHO94nluuv"
   },
   "outputs": [],
   "source": [
    "@tf.function\n",
    "def log_parallel_backward_potential_op(elemjk, elemij):\n",
    "    \"\"\"A parallel backward potential op routine in log space.\"\"\"\n",
    "    \n",
    "    return log_mm(elemij,elemjk)\n"
   ]
  },
  {
   "cell_type": "markdown",
   "metadata": {
    "id": "AodmoD8nl6AZ"
   },
   "source": [
    "#### Parallel backward potentials"
   ]
  },
  {
   "cell_type": "code",
   "execution_count": 37,
   "metadata": {
    "id": "GON_JNp1l6Hy"
   },
   "outputs": [],
   "source": [
    "@tf.function\n",
    "def log_parallel_backward_potential(model, obs,  max_parallel=10000):\n",
    "    \"\"\"A parallel backward potential routine to compute backward elements in log space.\"\"\"\n",
    "    \n",
    "    initial_elements = log_parallel_backward_potential_init(model, obs)\n",
    "    reversed_elements = tf.reverse(initial_elements, axis=[0])\n",
    "    final_elements = tfp.math.scan_associative(log_parallel_backward_potential_op,\n",
    "                                             reversed_elements,\n",
    "                                             max_num_levels=math.ceil(math.log2(max_parallel)))\n",
    "    final_elements = tf.reverse(final_elements, axis=[0])\n",
    "    return final_elements[:, :, 0]\n"
   ]
  },
  {
   "cell_type": "markdown",
   "metadata": {
    "id": "MiJkj10Pl6QH"
   },
   "source": [
    "#### Parallel potential smoother in log space"
   ]
  },
  {
   "cell_type": "code",
   "execution_count": 38,
   "metadata": {
    "id": "Fup9OrCTl6YX"
   },
   "outputs": [],
   "source": [
    "@tf.function\n",
    "def log_parallel_potential_smoother(model, obs,  max_parallel=10000):\n",
    "    \"\"\"A parallel potential smoother routine to compute forward and backward elements in log space.\"\"\"\n",
    "    \n",
    "    log_psi_f = log_parallel_forward_potential(model, obs, max_parallel)\n",
    "    log_psi_b = log_parallel_backward_potential(model, obs, max_parallel)\n",
    "    log_sest = log_psi_f + log_psi_b\n",
    "    log_sest = log_normalize(log_sest)\n",
    "    return log_sest"
   ]
  },
  {
   "cell_type": "markdown",
   "metadata": {
    "id": "oHV6uOERl9JP"
   },
   "source": [
    "#### Comparison with different implementation"
   ]
  },
  {
   "cell_type": "code",
   "execution_count": 39,
   "metadata": {
    "colab": {
     "base_uri": "https://localhost:8080/"
    },
    "id": "xHSNpjLCK_Zv",
    "outputId": "5edac0c9-60ff-4a98-a309-9ce909120b2b"
   },
   "outputs": [
    {
     "name": "stdout",
     "output_type": "stream",
     "text": [
      "Difference between parallel and log-parallel forward potentials:  2.7755575615628914e-17\n",
      "Difference between parallel and log-parallel backward potentials:  2.220446049250313e-16\n",
      "Difference between parallel and log-parallel potential smoothers:  nan\n",
      "Is the result of log-space potential based smoothers contains NaNs?  tf.Tensor(False, shape=(), dtype=bool)\n"
     ]
    }
   ],
   "source": [
    "with tf.device('/CPU:0'):\n",
    "    psi_f = parallel_forward_potential(model, Y, max_parallel=100000)\n",
    "    log_psi_f = log_parallel_forward_potential(model, Y, max_parallel=100000)\n",
    "    print('Difference between parallel and log-parallel forward potentials: ', np.abs(psi_f - tf.math.exp(log_psi_f)).max())\n",
    "\n",
    "    psi_b = parallel_backward_potential(model, Y, max_parallel=100000)\n",
    "    log_psi_b = log_parallel_backward_potential(model, Y, max_parallel=100000)\n",
    "    print('Difference between parallel and log-parallel backward potentials: ', np.abs(psi_b - tf.math.exp(log_psi_b)).max())\n",
    "\n",
    "    potential_ss = parallel_potential_smoother(model, Y, max_parallel=100000)\n",
    "    log_potential_ss = log_parallel_potential_smoother(model, Y, max_parallel=100000)\n",
    "    print('Difference between parallel and log-parallel potential smoothers: ', np.abs(potential_ss - tf.math.exp(log_potential_ss)).max())\n",
    "\n",
    "    print('Is the result of log-space potential based smoothers contains NaNs? ', tf.math.is_nan(tf.reduce_mean(log_potential_ss)))\n",
    "    \n"
   ]
  },
  {
   "cell_type": "code",
   "execution_count": null,
   "metadata": {
    "id": "67ZJOauhvaJy"
   },
   "outputs": [],
   "source": [
    "def get_average_runtimes(func, n_iter, model, observations):\n",
    "    runtimes = np.empty(input_sizes.shape)\n",
    "    for i, input_size in tqdm(enumerate(input_sizes), total=runtimes.shape[0]):\n",
    "        observation_slice = observations[:input_size]\n",
    "        max_parallel = int(input_size)\n",
    "        _ = func(model, observation_slice, max_parallel=max_parallel)  # compilation run\n",
    "        tic = time.time()\n",
    "        for _ in trange(n_iter, leave=False):\n",
    "            res = func(model, observation_slice, max_parallel=max_parallel)\n",
    "        runtimes[i] = (time.time() - tic) / n_iter\n",
    "    return runtimes"
   ]
  },
  {
   "cell_type": "code",
   "execution_count": null,
   "metadata": {
    "id": "nMJyFdJ9vhnO"
   },
   "outputs": [],
   "source": [
    "input_sizes = np.logspace(2, log10T, num=20, base=10).astype(int)\n",
    "n_iter = 100\n",
    "n_iter_seq = 10\n",
    "\n",
    "with tf.device('/CPU:0'):\n",
    "    cpu_Y = tf.constant(Y)\n",
    "    \n",
    "    cpu_sequential_runtimes = get_average_runtimes(log_potential_smoother, n_iter_seq, model, cpu_Y)\n",
    "    cpu_parallel_runtimes = get_average_runtimes(log_parallel_potential_smoother, n_iter, model, cpu_Y)\n",
    "    \n",
    "with tf.device(device):\n",
    "    xpu_Y = tf.constant(Y)\n",
    "    xpu_sequential_runtimes = get_average_runtimes(log_potential_smoother, n_iter_seq, model, xpu_Y)\n",
    "    xpu_parallel_runtimes = get_average_runtimes(log_parallel_potential_smoother, n_iter, model, xpu_Y)\n",
    "    "
   ]
  },
  {
   "cell_type": "code",
   "execution_count": null,
   "metadata": {
    "colab": {
     "base_uri": "https://localhost:8080/",
     "height": 568
    },
    "id": "13DKAy5Dzxsa",
    "outputId": "dc48bc66-874e-4a3d-f3d2-31742472e0f6"
   },
   "outputs": [
    {
     "data": {
      "image/png": "[encoded data removed]",
      "text/plain": [
       "<Figure size 900x600 with 1 Axes>"
      ]
     },
     "metadata": {
      "needs_background": "light"
     },
     "output_type": "display_data"
    }
   ],
   "source": [
    "fig = plt.figure(1, dpi=150)\n",
    "\n",
    "plt.loglog(input_sizes, cpu_sequential_runtimes, label=\"PS Sequential-CPU\", linestyle=\"-.\", linewidth=3)\n",
    "plt.loglog(input_sizes, cpu_parallel_runtimes, label=\"PS Parallel-CPU\", linewidth=3)\n",
    "plt.legend()\n",
    "plt.xlabel(\"Number of data points\")\n",
    "plt.ylabel(\"Average run time (seconds)\")\n",
    "plt.grid()\n",
    "plt.show()"
   ]
  },
  {
   "cell_type": "code",
   "execution_count": null,
   "metadata": {
    "colab": {
     "base_uri": "https://localhost:8080/",
     "height": 568
    },
    "id": "xHA77tPvw4S0",
    "outputId": "0acd5037-9dfb-4588-d655-b883f9ccc515"
   },
   "outputs": [
    {
     "data": {
      "image/png": "[encoded data removed]",
      "text/plain": [
       "<Figure size 900x600 with 1 Axes>"
      ]
     },
     "metadata": {
      "needs_background": "light"
     },
     "output_type": "display_data"
    }
   ],
   "source": [
    "fig = plt.figure(1, dpi=150)\n",
    "plt.loglog(input_sizes, xpu_sequential_runtimes, label=\"PS Sequential-GPU\", linestyle=\"-.\", linewidth=3)\n",
    "plt.loglog(input_sizes, xpu_parallel_runtimes, label=\"PS Parallel-GPU\", linewidth=3)\n",
    "plt.legend()\n",
    "plt.xlabel(\"Number of data points\")\n",
    "plt.ylabel(\"Average run time (seconds)\")\n",
    "plt.grid()\n",
    "plt.show()"
   ]
  }
 ],
 "metadata": {
  "accelerator": "GPU",
  "colab": {
   "collapsed_sections": [],
   "machine_shape": "hm",
   "name": "phmm_potentials.ipynb",
   "provenance": []
  },
  "kernelspec": {
   "display_name": "Python 3",
   "language": "python",
   "name": "python3"
  },
  "language_info": {
   "codemirror_mode": {
    "name": "ipython",
    "version": 3
   },
   "file_extension": ".py",
   "mimetype": "text/x-python",
   "name": "python",
   "nbconvert_exporter": "python",
   "pygments_lexer": "ipython3",
   "version": "3.8.3"
  }
 },
 "nbformat": 4,
 "nbformat_minor": 1
}

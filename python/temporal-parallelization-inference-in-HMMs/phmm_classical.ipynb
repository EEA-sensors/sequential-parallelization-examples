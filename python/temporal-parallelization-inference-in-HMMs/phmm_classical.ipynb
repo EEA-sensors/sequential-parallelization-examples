{
 "cells": [
  {
   "cell_type": "markdown",
   "metadata": {
    "id": "w-A676oSu4HF"
   },
   "source": [
    "# HMM inference and MAP estimation in Gilbert-Elliot channel model \n",
    "## TensorFlow implementation of classical HMM and the parallel version.\n",
    "\n",
    "This notebook implements the algorithms from Ref.[2]\n",
    "\n",
    "[2] S. S. Hassan, S. Särkkä and Á. F. García-Fernández, \"__Temporal Parallelization of Inference in Hidden Markov Models__,\" in *__IEEE Transactions on Signal Processing__*, vol. 69, pp. 4875-4887, 2021, doi: 10.1109/TSP.2021.3103338.\n"
   ]
  },
  {
   "cell_type": "markdown",
   "metadata": {
    "id": "5s_VgUKI0JYy"
   },
   "source": [
    "### Imports and utilities"
   ]
  },
  {
   "cell_type": "code",
   "execution_count": 1,
   "metadata": {
    "id": "vK5Nq0QJu_6j"
   },
   "outputs": [],
   "source": [
    "# Python specific imports that will make our job easier and our code prettier\n",
    "from collections import namedtuple\n",
    "from functools import partial\n",
    "import math\n",
    "import time\n",
    "from tqdm.auto import trange, tqdm\n",
    "\n",
    "# TF specific imports that we will use to code the logic\n",
    "from tensorflow import function\n",
    "import tensorflow as tf\n",
    "import tensorflow_probability as tfp\n",
    "\n",
    "# Auxiliary libraries that we will use to report results and create the data\n",
    "import matplotlib.pyplot as plt\n",
    "import numpy as np\n",
    "import scipy as sc\n",
    "\n",
    "# Utilities\n",
    "mm = tf.linalg.matmul\n",
    "mv = tf.linalg.matvec\n",
    "\n",
    "# device = '/TPU:0'\n",
    "device = '/GPU:0'\n",
    "\n",
    "# check if device is available\n",
    "# tf.test.is_gpu_available()"
   ]
  },
  {
   "cell_type": "markdown",
   "metadata": {
    "id": "WHKrIHFHwy0Z"
   },
   "source": [
    "### Model"
   ]
  },
  {
   "cell_type": "markdown",
   "metadata": {
    "id": "-Jc6gnxa0JY0"
   },
   "source": [
    "We consider the Gilbert-Elliot channel model. This is  a classical model used in the transmission of signals in digital communication channels. There are two hidden Markov states: one for input signal and another for channel regime signal. They are binary signals and represented by $b_k$ and $s_k$, respectively. \n",
    "\n",
    "The input signal $b_k$ is flipped by an idependendent error. We can model this as \n",
    "$$\n",
    "y_k = b_k \\oplus v_k\n",
    "$$\n",
    "\n",
    "The regime channel signal $s_k$ represents the high and low error conditions of the channel. If $v_k = 1$ i.e. an error occurs, then\n",
    "\n",
    "- $q_0$ represents a low value for the probability of the error.\n",
    "- $q_1$ represents a high value for the probability of the error.\n",
    "\n",
    "The transition probability can be represented as\n",
    "\n",
    "- $p_0$: transition from high error state to low error state.\n",
    "- $p_1$: transition from low error state to high error state.\n",
    "- $p_2$: switching probability of $b_k$.\n",
    "\n",
    "The joint model $x_k = (s_k, b_k)$ is a four-state Markov chain. That is,\n",
    "$$\n",
    "x_k = \\{(0, 0), (0, 1), (1, 0), (1, 1)\\}\n",
    "$$ \n",
    "and encoded as $\\{0, 1, 2, 3\\}$. Our transition and observation matrices are as follows:\n",
    "\n",
    "\n",
    "$$\n",
    "\\Pi = p(x_k \\mid x_{k-1}) = \\begin{pmatrix}\n",
    "(1 - p_0)(1 - p_2) & p_0 (1 - p_2)   & (1 - p_0)p_2        & p_0 p_2 \\\\  \n",
    "p_1 (1 - p_2)      & (1-p_1) (1-p_2) & p_1 p_2             & (1- p_1) p_2 \\\\\n",
    "(1 - p_0)          & p_0 p_2         & (1 - p_0) (1 - p_2) & p_0  (1 - p_2) \\\\\n",
    "p_1 p_2            & (1 - p_1)p_2    & p_1 (1 - p_2)       & (1 - p_1) (1 - p_2)\n",
    "\\end{pmatrix}\n",
    "$$\n",
    "\n",
    "and\n",
    "\n",
    "$$\n",
    "O = p(y_k\\mid x_k) = \\begin{pmatrix}\n",
    "(1 - q_0) & q_0 \\\\\n",
    "(1 - q_1) & q_1 \\\\\n",
    "q_0 & (1 - q_0) \\\\\n",
    "q_1 & (1 - q_1)\n",
    "\\end{pmatrix}\n",
    "$$\n",
    "\n",
    "\n",
    "\n"
   ]
  },
  {
   "cell_type": "code",
   "execution_count": 2,
   "metadata": {
    "id": "9DAi6G2e04yH"
   },
   "outputs": [],
   "source": [
    "class HMMModel:\n",
    "    def __init__(self, p0=0.03,  p1=0.1, p2=0.05, q0=0.01, q1=0.1):\n",
    "        \"\"\"Gilbert-Elliot channel model.\n",
    "        \n",
    "        math::\n",
    "            p0: `P(S_{k+1} = 1 | S_{k} = 0)`\n",
    "            p1: `P(S_{k+1} = 0 | S_{k} = 1)`\n",
    "            p2: `P(B_{k+1} = 1 | B_{k} = 0) = P(B_{k+1} = 0 | B_{k} = 1)`\n",
    "            q0: `P(Y_k != b | B_k = b, S_k = 0)`\n",
    "            q1: `P(Y_k != b | B_k = b, S_k = 1)`\n",
    "        \n",
    "        \"\"\"\n",
    "        # transition matrix\n",
    "        self.np_Pi = np.array([\n",
    "            [(1-p0)*(1-p2), p0*(1-p2),     (1-p0)*p2,     p0*p2],\n",
    "            [p1*(1-p2),     (1-p1)*(1-p2), p1*p2,         (1-p1)*p2],\n",
    "            [(1-p0)*p2,     p0*p2,         (1-p0)*(1-p2), p0*(1-p2)],\n",
    "            [p1*p2,         (1-p1)*p2,     p1*(1-p2),     (1-p1)*(1-p2)]\n",
    "        ])\n",
    "        \n",
    "        # observation matrix\n",
    "        self.np_Po = np.array([\n",
    "            [(1-q0), q0],\n",
    "            [(1-q1), q1],\n",
    "            [q0, (1-q0)],\n",
    "            [q1, (1-q1)]\n",
    "        ])\n",
    "\n",
    "        # prior\n",
    "        self.np_prior = np.array([0.25, 0.25, 0.25, 0.25])\n",
    "\n",
    "        # convert to tensor\n",
    "        self.Pi    = tf.convert_to_tensor(self.np_Pi)\n",
    "        self.Po    = tf.convert_to_tensor(self.np_Po)\n",
    "        self.prior = tf.convert_to_tensor(self.np_prior)\n",
    "        \n",
    "        # dimensions\n",
    "        self.Pi_dim = self.np_Pi.shape[-1]\n",
    "        self.Po_dim = self.np_Po.shape[-1]\n",
    "        self.prior_dim = self.np_prior.shape[-1]\n",
    "\n",
    "        # transition, observation, and prior in log-space\n",
    "        self.log_Pi    = tf.math.log(self.np_Pi)\n",
    "        self.log_Po    = tf.math.log(self.np_Po)\n",
    "        self.log_prior = tf.math.log(self.np_prior)\n"
   ]
  },
  {
   "cell_type": "code",
   "execution_count": 3,
   "metadata": {
    "id": "GiqvK_b_wHVK"
   },
   "outputs": [],
   "source": [
    "def catrnd(rng, p):\n",
    "    if p.ndim > 1:\n",
    "        p = p.squeeze()\n",
    "    \n",
    "    return rng.choice(p.shape[0], size=1,  p=p)\n",
    "\n",
    "def simulate_data(model: HMMModel, steps:int, seed:int=1):\n",
    "    rng = np.random.default_rng(seed)\n",
    "    \n",
    "    X = np.zeros((steps, 1))\n",
    "    Y = np.zeros(steps, dtype=np.int32)\n",
    "    x = catrnd(rng, model.np_prior)\n",
    "    \n",
    "    for k in range(steps):\n",
    "        x = catrnd(rng, model.np_Pi[x])\n",
    "        y = catrnd(rng, model.np_Po[x])\n",
    "        X[k] = x\n",
    "        Y[k] = y\n",
    "    \n",
    "    return X, Y\n"
   ]
  },
  {
   "cell_type": "markdown",
   "metadata": {
    "id": "hRAMogFO5Erq"
   },
   "source": [
    "#### Initialize the parameters"
   ]
  },
  {
   "cell_type": "code",
   "execution_count": 4,
   "metadata": {
    "id": "mb2bWj7w5Kw9"
   },
   "outputs": [],
   "source": [
    "log10T = 5\n",
    "steps = 100\n",
    "T = np.arange(10 ** log10T)+1"
   ]
  },
  {
   "cell_type": "markdown",
   "metadata": {
    "id": "1R4ChFdK4pHP"
   },
   "source": [
    "#### Initiate the model"
   ]
  },
  {
   "cell_type": "code",
   "execution_count": 5,
   "metadata": {
    "id": "JXsfEtud4kUJ"
   },
   "outputs": [],
   "source": [
    "model = HMMModel()"
   ]
  },
  {
   "cell_type": "markdown",
   "metadata": {
    "id": "OJ9M4r3O5Tui"
   },
   "source": [
    "#### Simulate the data"
   ]
  },
  {
   "cell_type": "code",
   "execution_count": 6,
   "metadata": {
    "id": "pGZyKtWh5TB1"
   },
   "outputs": [],
   "source": [
    "X,Y = simulate_data(model,10 ** log10T)"
   ]
  },
  {
   "cell_type": "markdown",
   "metadata": {
    "id": "P16V-D5c6CBQ"
   },
   "source": [
    "#### Plot the simulated data"
   ]
  },
  {
   "cell_type": "code",
   "execution_count": 8,
   "metadata": {
    "colab": {
     "base_uri": "https://localhost:8080/",
     "height": 300
    },
    "id": "VSHvf3Fs6GVY",
    "outputId": "c8f6f544-09f0-45fe-9565-ca1fc4488eb5"
   },
   "outputs": [
    {
     "data": {
      "text/plain": [
       "[<matplotlib.lines.Line2D at 0x7f7728f5ee10>,\n",
       " <matplotlib.lines.Line2D at 0x7f772020a750>]"
      ]
     },
     "execution_count": 8,
     "metadata": {},
     "output_type": "execute_result"
    },
    {
     "data": {
      "image/png": "[encoded data removed]",
      "text/plain": [
       "<Figure size 432x288 with 1 Axes>"
      ]
     },
     "metadata": {
      "needs_background": "light"
     },
     "output_type": "display_data"
    }
   ],
   "source": [
    "plt.plot(T[:steps], X[:steps], '*-', T[:steps], Y[:steps], 'o--')"
   ]
  },
  {
   "cell_type": "markdown",
   "metadata": {
    "id": "cUL9E1tJyCt0"
   },
   "source": [
    "### Sequential Bayesian filter and smoother\n",
    "\n"
   ]
  },
  {
   "cell_type": "markdown",
   "metadata": {
    "id": "1j7mjhZk_8g1"
   },
   "source": [
    "#### Filter routine"
   ]
  },
  {
   "cell_type": "code",
   "execution_count": 12,
   "metadata": {
    "id": "hM2wOgC6xNca"
   },
   "outputs": [],
   "source": [
    "@tf.function\n",
    "def bayesian_filter(model, obs):\n",
    "    \"\"\"A sequential bayesian filter routine\n",
    "    Parameters\n",
    "    ----------\n",
    "    model: \n",
    "        HMM model\n",
    "    obs: array_like\n",
    "        Observations\n",
    "    Returns\n",
    "    -------\n",
    "    bayes_fs: \n",
    "        filtering estimates\n",
    "        \n",
    "    \"\"\"\n",
    "    def body(carry, y):    \n",
    "        k, p = carry # k is the iteration\n",
    "        p = tf.cond(k > 0, lambda: mv(model.Pi, p, transpose_a=True), lambda: p)\n",
    "        p = model.Po[:, y] * p\n",
    "        p = p / tf.reduce_sum(p)\n",
    "        return (k+1, p)\n",
    "\n",
    "    ks, bayes_fs = tf.scan(body, obs, (0, model.prior))\n",
    "    return bayes_fs\n"
   ]
  },
  {
   "cell_type": "markdown",
   "metadata": {
    "id": "BK9m3X2UABLq"
   },
   "source": [
    "Smoother routine"
   ]
  },
  {
   "cell_type": "code",
   "execution_count": 13,
   "metadata": {
    "id": "Q_e77w-rAE4G"
   },
   "outputs": [],
   "source": [
    "@tf.function\n",
    "def bayesian_smoother(model, bayes_fs):\n",
    "    \"\"\"A sequential Bayesian smoother routine\n",
    "\n",
    "    Parameters\n",
    "    ----------\n",
    "    model: \n",
    "        HMM model\n",
    "    bayes_fs: array_like\n",
    "        filtering estimates\n",
    "    Returns\n",
    "    -------\n",
    "    bayes_ss: \n",
    "        smoothing estimates\n",
    "    \"\"\"\n",
    "    def body(carry, fest):\n",
    "        p = carry\n",
    "        festp = mv(model.Pi, fest, transpose_a=True)\n",
    "        p = fest * mv(model.Pi, p / festp)\n",
    "        p = p / tf.reduce_sum(p)\n",
    "        return p\n",
    "  \n",
    "    bayes_ss = tf.scan(body, bayes_fs[:-1], bayes_fs[-1], reverse=True)\n",
    "    bayes_ss = tf.concat([bayes_ss, tf.expand_dims(bayes_fs[-1], 0)], 0)\n",
    "    return bayes_ss\n",
    "\n"
   ]
  },
  {
   "cell_type": "markdown",
   "metadata": {
    "id": "JS0xO5c1AIdM"
   },
   "source": [
    " #### Sequential Bayesian filter and smoother routine combined"
   ]
  },
  {
   "cell_type": "code",
   "execution_count": 14,
   "metadata": {
    "id": "kgMZnkRDASa4"
   },
   "outputs": [],
   "source": [
    "@tf.function\n",
    "def bayesian_filter_smoother(model, obs):\n",
    "    \"\"\"A combined sequential Bayesian filter smoother routine\n",
    "\n",
    "    Parameters\n",
    "    ----------\n",
    "    model: \n",
    "        HMM model\n",
    "    obs: array_like\n",
    "        observations\n",
    "    Returns\n",
    "    -------\n",
    "    bayes_fs:\n",
    "        filtering estimates\n",
    "    bayes_ss: \n",
    "        smoothing estimates\n",
    "    \"\"\"\n",
    "    bayes_fs = bayesian_filter(model, obs)\n",
    "    bayes_ss = bayesian_smoother(model, bayes_fs)\n",
    "    return bayes_fs, bayes_ss"
   ]
  },
  {
   "cell_type": "markdown",
   "metadata": {
    "id": "OgeRyT7C0JY5"
   },
   "source": [
    "### Plot sequential Bayesian filter-smoother and compare with reference"
   ]
  },
  {
   "cell_type": "code",
   "execution_count": 15,
   "metadata": {
    "colab": {
     "base_uri": "https://localhost:8080/",
     "height": 300
    },
    "id": "Tmm1DsHsKf45",
    "outputId": "d07c8f72-faa3-4af7-97d7-1b8a568f43be"
   },
   "outputs": [
    {
     "data": {
      "image/png": "[encoded data removed]",
      "text/plain": [
       "<Figure size 432x288 with 4 Axes>"
      ]
     },
     "metadata": {
      "needs_background": "light"
     },
     "output_type": "display_data"
    },
    {
     "name": "stdout",
     "output_type": "stream",
     "text": [
      "Difference with ref and sequential Bayesian filters:  4.440892098500626e-16\n",
      "Difference with ref and sequential Bayesian smoothers:  6.106226635438361e-16\n"
     ]
    }
   ],
   "source": [
    "with tf.device('/CPU:0'):\n",
    "    bayes_fs = bayesian_filter(model, Y)\n",
    "    bayes_ss = bayesian_smoother(model, bayes_fs)\n",
    "\n",
    "plt.clf()\n",
    "for i in range(4):\n",
    "    plt.subplot(2,2,i+1)\n",
    "    plt.plot(T[:steps], [p[i] for p in bayes_fs[:steps]], T[:steps], [p[i] for p in bayes_ss[:steps]])\n",
    "plt.show()\n",
    "\n"
   ]
  },
  {
   "cell_type": "markdown",
   "metadata": {
    "id": "nQjmem2ZwHLL"
   },
   "source": [
    "### Utilities for log-space computations\n",
    "\n",
    "\n"
   ]
  },
  {
   "cell_type": "code",
   "execution_count": 17,
   "metadata": {
    "colab": {
     "base_uri": "https://localhost:8080/"
    },
    "id": "5lPjL7LvwMiq",
    "outputId": "38bf0a5b-c216-4c11-fc71-39e797903b79"
   },
   "outputs": [
    {
     "name": "stdout",
     "output_type": "stream",
     "text": [
      "Test utility functions:\n",
      "tf.Tensor(\n",
      "[[1.4257064  1.0391585  0.7607688  1.0484284 ]\n",
      " [0.9447347  0.76951545 0.44059256 0.6164023 ]\n",
      " [0.35811597 0.34018368 0.16159499 0.33705997]\n",
      " [0.75753486 0.5810969  0.41004145 0.6656992 ]], shape=(4, 4), dtype=float32)\n",
      "tf.Tensor(\n",
      "[[1.4257064  1.0391583  0.7607688  1.0484283 ]\n",
      " [0.94473475 0.76951534 0.44059253 0.61640227]\n",
      " [0.35811597 0.3401837  0.161595   0.33705997]\n",
      " [0.75753486 0.58109677 0.41004142 0.6656991 ]], shape=(4, 4), dtype=float32)\n",
      "tf.Tensor([0.5768026  0.33639905 0.15708235 0.353592  ], shape=(4,), dtype=float32)\n",
      "tf.Tensor([0.5768026  0.33639905 0.15708235 0.35359204], shape=(4,), dtype=float32)\n",
      "tf.Tensor([0.5768026  0.3363991  0.15708235 0.35359204], shape=(4,), dtype=float32)\n",
      "tf.Tensor([0.19298144 0.3319118  0.0531239  0.42198285], shape=(4,), dtype=float32)\n",
      "tf.Tensor([0.19298144 0.3319118  0.0531239  0.42198288], shape=(4,), dtype=float32)\n"
     ]
    }
   ],
   "source": [
    "@tf.function\n",
    "def log_mv(log_A, log_b, transpose_a=False):\n",
    "    Amax = tf.reduce_max(log_A, axis=(-1, -2), keepdims=True)\n",
    "    bmax = tf.reduce_max(log_b, axis=(-1), keepdims=True)\n",
    "    return tf.squeeze(Amax, axis=-1) + bmax + tf.math.log(mv(tf.math.exp(log_A - Amax), tf.math.exp(log_b - bmax), transpose_a=transpose_a))\n",
    "\n",
    "@tf.function\n",
    "def semilog_mv(A, log_b, transpose_a=False):\n",
    "    bmax = tf.reduce_max(log_b, axis=(-1), keepdims=True)\n",
    "    return bmax + tf.math.log(mv(A, tf.math.exp(log_b - bmax), transpose_a=transpose_a))\n",
    "\n",
    "@tf.function\n",
    "def log_mm(log_A, log_B,transpose_a=False, transpose_b=False):\n",
    "    Amax = tf.reduce_max(log_A, axis=(-1,-2), keepdims=True)\n",
    "    Bmax = tf.reduce_max(log_B, axis=(-1,-2), keepdims=True)\n",
    "    return Amax + Bmax + tf.math.log(mm(tf.math.exp(log_A - Amax), tf.math.exp(log_B - Bmax), transpose_a=transpose_a, transpose_b=transpose_b))\n",
    "\n",
    "@tf.function\n",
    "def log_normalize(log_p):\n",
    "    pmax = tf.reduce_max(log_p, axis=(-1), keepdims=True)\n",
    "    temp = tf.math.exp(log_p - pmax)\n",
    "    return tf.math.log(temp / tf.reduce_sum(temp, axis=-1, keepdims=True))\n",
    "\n",
    "print('Test utility functions:')\n",
    "with tf.device('/CPU:0'):\n",
    "    tf.random.set_seed(5)\n",
    "    A = tf.random.uniform(shape=[4, 4])\n",
    "    B = tf.random.uniform(shape=[4, 4])\n",
    "    log_A = tf.math.log(A)\n",
    "    log_B = tf.math.log(B)\n",
    "    print(mm(A, B))\n",
    "    print(tf.math.exp(log_mm(log_A, log_B)))\n",
    "\n",
    "    b = tf.random.uniform(shape=[4])\n",
    "    log_b = tf.math.log(b)\n",
    "    print(mv(A, b))\n",
    "    print(tf.math.exp(log_mv(log_A, log_b)))\n",
    "    print(tf.math.exp(semilog_mv(A, log_b)))\n",
    "\n",
    "    print(b / tf.reduce_sum(b, keepdims=True))\n",
    "    print(tf.math.exp(log_normalize(log_b)))\n"
   ]
  },
  {
   "cell_type": "markdown",
   "metadata": {
    "id": "xrgfvG6w673c"
   },
   "source": [
    "### Log-space sequential Bayesian filter and smoother"
   ]
  },
  {
   "cell_type": "markdown",
   "metadata": {
    "id": "ZQIknoAEIxmO"
   },
   "source": [
    "#### Filter routine"
   ]
  },
  {
   "cell_type": "code",
   "execution_count": 18,
   "metadata": {
    "id": "NTsNf8Mt6-HV"
   },
   "outputs": [],
   "source": [
    "@tf.function\n",
    "def log_bayesian_filter(model, obs):\n",
    "    \"\"\"A bayesian filter routine in log space\n",
    "    \n",
    "    Parameters\n",
    "    ----------\n",
    "    model: \n",
    "        HMM model\n",
    "    obs: array_like\n",
    "        observations\n",
    "    Returns\n",
    "    -------\n",
    "    log_bayes_fs: \n",
    "        filtering estimates\n",
    "    \"\"\"\n",
    "    def body(carry, y):    \n",
    "        k, log_p = carry # k is the iteration\n",
    "        log_p = tf.cond(k > 0, lambda: semilog_mv(model.Pi, log_p, transpose_a=True), lambda: log_p)\n",
    "        log_p = model.log_Po[:, y] + log_p\n",
    "        log_p = log_normalize(log_p)\n",
    "        return (k+1, log_p)\n",
    "\n",
    "    ks, log_bayes_fs = tf.scan(body, obs, (0, model.log_prior))\n",
    "    return log_bayes_fs\n"
   ]
  },
  {
   "cell_type": "markdown",
   "metadata": {
    "id": "-K_nD8fGI3Rd"
   },
   "source": [
    "#### Smoother routine"
   ]
  },
  {
   "cell_type": "code",
   "execution_count": 19,
   "metadata": {
    "id": "KV8f4_1HI70t"
   },
   "outputs": [],
   "source": [
    "@tf.function\n",
    "def log_bayesian_smoother(model, log_bayes_fs):\n",
    "    \"\"\"A bayesian smoother routine in log space\n",
    "    Parameters\n",
    "    ----------\n",
    "    model: \n",
    "        HMM model\n",
    "    log_bayes_fs: array_like\n",
    "        filtering estimates\n",
    "    Returns\n",
    "    -------\n",
    "    log_bayes_ss: \n",
    "        smoothing estimates\n",
    "    \"\"\"\n",
    "    def body(carry, log_fest):\n",
    "        log_p = carry\n",
    "        log_festp = semilog_mv(model.Pi, log_fest, transpose_a=True)\n",
    "        log_p = log_fest + semilog_mv(model.Pi, log_p - log_festp)\n",
    "        log_p = log_normalize(log_p)\n",
    "        return log_p\n",
    "  \n",
    "    log_bayes_ss = tf.scan(body, log_bayes_fs[:-1], log_bayes_fs[-1], reverse=True)\n",
    "    log_bayes_ss = tf.concat([log_bayes_ss, tf.expand_dims(log_bayes_fs[-1], 0)], 0)\n",
    "    return log_bayes_ss\n"
   ]
  },
  {
   "cell_type": "markdown",
   "metadata": {
    "id": "1tdIH5RrJAfq"
   },
   "source": [
    "#### Log Bayesian Filter and Smoother routines"
   ]
  },
  {
   "cell_type": "code",
   "execution_count": 20,
   "metadata": {
    "id": "S9f7AltBI-Td"
   },
   "outputs": [],
   "source": [
    "@tf.function\n",
    "def log_bayesian_filter_smoother(model, obs, max_parallel=0):\n",
    "    log_bayes_fs = log_bayesian_filter(model, obs)\n",
    "    log_bayes_ss = log_bayesian_smoother(model, log_bayes_fs)\n",
    "    return log_bayes_fs, log_bayes_ss\n"
   ]
  },
  {
   "cell_type": "markdown",
   "metadata": {
    "id": "9MB1qcCtJIiU"
   },
   "source": [
    "#### Test classical and log-space Bayesian filters and smoothers"
   ]
  },
  {
   "cell_type": "code",
   "execution_count": 21,
   "metadata": {
    "colab": {
     "base_uri": "https://localhost:8080/"
    },
    "id": "XPy5-8ga8Ffl",
    "outputId": "9c881480-6690-4831-9a32-20077e54d3b8"
   },
   "outputs": [
    {
     "name": "stdout",
     "output_type": "stream",
     "text": [
      "Difference between classical and log-space Bayesian filters:  6.661338147750939e-16\n",
      "Difference between classical and log-space Bayesian smoothers:  1.1102230246251565e-15\n",
      "tf.Tensor(-4.987723784879924, shape=(), dtype=float64)\n"
     ]
    }
   ],
   "source": [
    "with tf.device('/CPU:0'):\n",
    "    plain_bayes_fs,plain_bayes_ss = bayesian_filter_smoother(model, Y)\n",
    "    log_bayes_fs,log_bayes_ss     = log_bayesian_filter_smoother(model, Y)\n",
    "    print('Difference between classical and log-space Bayesian filters: ', np.abs(plain_bayes_fs - tf.math.exp(log_bayes_fs)).max())\n",
    "    print('Difference between classical and log-space Bayesian smoothers: ', np.abs(plain_bayes_ss - tf.math.exp(log_bayes_ss)).max())\n",
    "    print(tf.reduce_mean(log_bayes_ss))"
   ]
  },
  {
   "cell_type": "code",
   "execution_count": 21,
   "metadata": {
    "id": "P_iZc0t90JY7"
   },
   "outputs": [],
   "source": []
  },
  {
   "cell_type": "markdown",
   "metadata": {
    "id": "M9gY6_OP0JY7"
   },
   "source": [
    "We have Sequential Bayesian filter and smoother as a baseline. Now, we implement a parallel version of this."
   ]
  },
  {
   "cell_type": "markdown",
   "metadata": {
    "id": "EVEeG8ZBRvkG"
   },
   "source": [
    "### Parallel Bayesian filter and smoother"
   ]
  },
  {
   "cell_type": "markdown",
   "metadata": {
    "id": "KxR6wo9R0JY8"
   },
   "source": [
    "#### Filter initialization routine:"
   ]
  },
  {
   "cell_type": "code",
   "execution_count": 22,
   "metadata": {
    "id": "kfpG-Ipu0JY8"
   },
   "outputs": [],
   "source": [
    "@tf.function\n",
    "def pbayesian_filter_init_first(model, y):\n",
    "    \"\"\"A Bayesian filter initialize routine to initialize first element.\n",
    "\n",
    "    Parameters\n",
    "    ----------\n",
    "    model: \n",
    "        HMM model\n",
    "    y: array_like\n",
    "        observations\n",
    "    Returns\n",
    "    -------\n",
    "    f: type\n",
    "        description\n",
    "    g: type\n",
    "        description\n",
    "    \"\"\"\n",
    "    pxy = model.Po[:, y] * model.prior\n",
    "    py  = tf.reduce_sum(pxy)\n",
    "    pxy = pxy / py\n",
    "    f = pxy * tf.ones_like(model.Pi)\n",
    "    g = py  * tf.ones_like(model.prior)\n",
    "    return f, g\n",
    "\n",
    "@tf.function\n",
    "def pbayesian_filter_init_rest(model, obs):\n",
    "    \"\"\"A Bayesian filter initialize routine to initialize the rest of the elements\n",
    "\n",
    "    Parameters\n",
    "    ----------\n",
    "    model: \n",
    "        HMM model\n",
    "    y: array_like\n",
    "        observations\n",
    "    Returns\n",
    "    -------\n",
    "    f: type\n",
    "        description\n",
    "    g: type\n",
    "        description\n",
    "    \n",
    "    \"\"\"\n",
    "    temp = tf.gather(tf.transpose(model.Po), obs, axis=0)\n",
    "    pxy = tf.expand_dims(temp, 1) * tf.expand_dims(model.Pi, 0)\n",
    "    g = tf.reduce_sum(pxy, axis=2)\n",
    "    f = pxy / g[..., None]\n",
    "    return f, g\n",
    "\n",
    "@tf.function\n",
    "def pbayesian_filter_init(model, obs):\n",
    "    \"\"\"A Bayesian filter initialize routine combine the first and generic elements\n",
    "    \n",
    "    \"\"\"\n",
    "    \n",
    "    first_elems   = pbayesian_filter_init_first(model, obs[0])\n",
    "    generic_elems = pbayesian_filter_init_rest(model, obs[1:])\n",
    "    return tuple(tf.concat([tf.expand_dims(first_e, 0), gen_es], 0) \n",
    "                 for first_e, gen_es in zip(first_elems, generic_elems))\n",
    "    \n"
   ]
  },
  {
   "cell_type": "markdown",
   "metadata": {
    "id": "UcZKHPPrNDWE"
   },
   "source": [
    "#### Filter operator "
   ]
  },
  {
   "cell_type": "code",
   "execution_count": 23,
   "metadata": {
    "id": "d1ac6lFNNDlf"
   },
   "outputs": [],
   "source": [
    "@tf.function\n",
    "def pbayesian_filter_op(elemij, elemjk):\n",
    "    \"\"\"A Bayesian filter operator routine \n",
    "    \n",
    "    \"\"\"\n",
    "    \n",
    "    fij,gij = elemij\n",
    "    fjk,gjk = elemjk\n",
    "\n",
    "    den = mv(fij, gjk)\n",
    "    num = fij @ (fjk * tf.expand_dims(gjk, -1))\n",
    "    fik = num / tf.expand_dims(den,-1)\n",
    "    gik = gij * den\n",
    "    \n",
    "    return fik, gik\n",
    "\n"
   ]
  },
  {
   "cell_type": "markdown",
   "metadata": {
    "id": "wuENrYzAND5Z"
   },
   "source": [
    "#### Filter routine"
   ]
  },
  {
   "cell_type": "code",
   "execution_count": 24,
   "metadata": {
    "id": "snQ8KiVvNESN"
   },
   "outputs": [],
   "source": [
    "@tf.function\n",
    "def pbayesian_filter(model, obs, max_parallel=10000):\n",
    "    \"\"\" Computes the Bayesian filtering estimates in parallel.\n",
    "\n",
    "    Parameters\n",
    "    ----------\n",
    "    model: \n",
    "        an HMM model\n",
    "    obs: \n",
    "        observations\n",
    "    Returns\n",
    "    -------\n",
    "    final_elements: \n",
    "        filtering estimates\n",
    "    \"\"\"\n",
    "    \n",
    "    \n",
    "    initial_elements = pbayesian_filter_init(model, obs)\n",
    "    final_elements = tfp.math.scan_associative(pbayesian_filter_op, \n",
    "                                               initial_elements, \n",
    "                                               max_num_levels=math.ceil(math.log2(max_parallel)))\n",
    "    return final_elements[0][:,0]"
   ]
  },
  {
   "cell_type": "markdown",
   "metadata": {
    "id": "HURSgZ6f0JY8"
   },
   "source": [
    "#### Smoother Initialization routine:"
   ]
  },
  {
   "cell_type": "code",
   "execution_count": 25,
   "metadata": {
    "id": "tbd2W99nRjON"
   },
   "outputs": [],
   "source": [
    "@tf.function\n",
    "def pbayesian_smoother_init_last(model, bayes_f):\n",
    "    a = tf.repeat(tf.expand_dims(bayes_f, 0), repeats=bayes_f.shape[0], axis=0)\n",
    "    return a\n",
    "\n",
    "@tf.function\n",
    "def pbayesian_smoother_init_rest(model, bayes_fs):\n",
    "    pred = mv(model.Pi, bayes_fs, transpose_a=True)\n",
    "    a = tf.expand_dims(tf.transpose(model.Pi), 0) * tf.expand_dims(bayes_fs, -2) / pred[..., None]\n",
    "    return a\n",
    "\n",
    "@tf.function\n",
    "def pbayesian_smoother_init(model, bayes_fs):\n",
    "    \"\"\"A Bayesian smoother initialize routine combining the last and generic elements.\"\"\"\n",
    "    \n",
    "    last_elems    = pbayesian_smoother_init_last(model, bayes_fs[-1])\n",
    "    generic_elems = pbayesian_smoother_init_rest(model, bayes_fs[:-1])\n",
    "    return tf.concat([generic_elems, tf.expand_dims(last_elems, 0)], axis=0)\n",
    "\n"
   ]
  },
  {
   "cell_type": "markdown",
   "metadata": {
    "id": "e-Hij2uvNZq-"
   },
   "source": [
    "#### Smoother operator"
   ]
  },
  {
   "cell_type": "code",
   "execution_count": 26,
   "metadata": {
    "id": "KoqFV1ECNaBg"
   },
   "outputs": [],
   "source": [
    "@tf.function\n",
    "def pbayesian_smoother_op(elemjk, elemij):\n",
    "    \"\"\"A Bayesian smoother operator\"\"\"\n",
    "    return elemjk @ elemij\n"
   ]
  },
  {
   "cell_type": "markdown",
   "metadata": {
    "id": "Xs946i5QNatY"
   },
   "source": [
    "#### Smoother routine"
   ]
  },
  {
   "cell_type": "code",
   "execution_count": 27,
   "metadata": {
    "id": "j8AHxRtXNa6f"
   },
   "outputs": [],
   "source": [
    "@tf.function\n",
    "def pbayesian_smoother(model, bayes_fs, max_parallel=10000):\n",
    "    \"\"\" A routine to compute the Bayesian smoother estimates in parallel. \n",
    "    Parameters\n",
    "    ----------\n",
    "    model: \n",
    "        an HMM model\n",
    "    bayes_fs: \n",
    "        filtering estimates\n",
    "    Returns\n",
    "    -------\n",
    "    final_elements: \n",
    "        smoother estimates\n",
    "    \"\"\"\n",
    "    \n",
    "    initial_elements = pbayesian_smoother_init(model, bayes_fs)\n",
    "    reversed_elements = tf.reverse(initial_elements, axis=[0])\n",
    "    final_elements = tfp.math.scan_associative(pbayesian_smoother_op, \n",
    "                                               reversed_elements, \n",
    "                                               max_num_levels=math.ceil(math.log2(max_parallel)))\n",
    "    return tf.reverse(final_elements[:,0], axis=[0])\n"
   ]
  },
  {
   "cell_type": "markdown",
   "metadata": {
    "id": "N0qU4jbE0JY8"
   },
   "source": [
    "#### Filter-Smoother\n",
    "\n",
    "We combine the filter and smoother routines into one."
   ]
  },
  {
   "cell_type": "code",
   "execution_count": 28,
   "metadata": {
    "id": "R7dEBUrf0JY8"
   },
   "outputs": [],
   "source": [
    "@tf.function\n",
    "def pbayesian_filter_smoother(model, obs, max_parallel=10000):\n",
    "    \"\"\"A potential-based bayesian filter and smoother routine\n",
    "    \"\"\"\n",
    "    \n",
    "    pbayes_fs = pbayesian_filter(model, obs, max_parallel)\n",
    "    pbayes_ss = pbayesian_smoother(model, pbayes_fs, max_parallel)\n",
    "    return pbayes_fs, pbayes_ss\n"
   ]
  },
  {
   "cell_type": "markdown",
   "metadata": {
    "id": "-tL75dLu0JY8"
   },
   "source": [
    "### Test and compare with reference"
   ]
  },
  {
   "cell_type": "code",
   "execution_count": 29,
   "metadata": {
    "colab": {
     "base_uri": "https://localhost:8080/"
    },
    "id": "PnqGISxMbE6X",
    "outputId": "94927859-ab88-4274-bf65-00987ce150e1"
   },
   "outputs": [
    {
     "name": "stdout",
     "output_type": "stream",
     "text": [
      "Difference between parallel and reference Bayesian filters:  nan\n",
      "Difference between parallel and reference Bayesian smoothers:  nan\n"
     ]
    }
   ],
   "source": [
    "with tf.device('/CPU:0'):\n",
    "    \n",
    "    pbayes_fs, pbayes_ss = pbayesian_filter_smoother(model, Y, max_parallel=100000)\n",
    "    print('Difference between parallel and reference Bayesian filters: ', np.abs(pbayes_fs - ref_bayes_fs).max())\n",
    "    print('Difference between parallel and reference Bayesian smoothers: ', np.abs(pbayes_ss - ref_bayes_ss).max())\n"
   ]
  },
  {
   "cell_type": "markdown",
   "metadata": {
    "id": "u7dJtaLS0JY9"
   },
   "source": [
    "The results produces nan values for a larger T. Therefore, we implement the log-space version of the parallel Bayesian filter and smoother."
   ]
  },
  {
   "cell_type": "markdown",
   "metadata": {
    "id": "-azd_4HfDoQh"
   },
   "source": [
    "### Log-space parallel Bayesian filter and smoother"
   ]
  },
  {
   "cell_type": "markdown",
   "metadata": {
    "id": "BWfJxZIa0JY9"
   },
   "source": [
    "#### Filter initialization routine"
   ]
  },
  {
   "cell_type": "code",
   "execution_count": 30,
   "metadata": {
    "id": "WHa3WYmz0JY9"
   },
   "outputs": [],
   "source": [
    "@tf.function\n",
    "def log_pbayesian_filter_init_first(model, y):\n",
    "    f,g = pbayesian_filter_init_first(model, y) # Initialization is quite stable\n",
    "    return tf.math.log(f), tf.math.log(g)\n",
    "\n",
    "@tf.function\n",
    "def log_pbayesian_filter_init_rest(model, obs):\n",
    "    f,g = pbayesian_filter_init_rest(model, obs) # Initialization is quite stable\n",
    "    return tf.math.log(f), tf.math.log(g)\n",
    "\n",
    "@tf.function\n",
    "def log_pbayesian_filter_init(model, obs):\n",
    "    \"\"\"A potential-based bayesian filter init routine in log space to initialize first and generic elements.\n",
    "    \"\"\"\n",
    "\n",
    "    first_elems   = log_pbayesian_filter_init_first(model, obs[0])\n",
    "    generic_elems = log_pbayesian_filter_init_rest(model, obs[1:])\n",
    "    return tuple(tf.concat([tf.expand_dims(first_e, 0), gen_es], 0) \n",
    "                 for first_e, gen_es in zip(first_elems, generic_elems))\n"
   ]
  },
  {
   "cell_type": "markdown",
   "metadata": {
    "id": "cw4_LsG7PA6M"
   },
   "source": [
    "#### Filter operator"
   ]
  },
  {
   "cell_type": "code",
   "execution_count": 31,
   "metadata": {
    "id": "2EK0ygCePBIk"
   },
   "outputs": [],
   "source": [
    "@tf.function\n",
    "def log_pbayesian_filter_op(elemij, elemjk):\n",
    "    \"\"\"A bayesian filter operator routine in log space\"\"\"\n",
    "    log_fij,log_gij = elemij\n",
    "    log_fjk,log_gjk = elemjk\n",
    "\n",
    "    log_den = log_mv(log_fij, log_gjk)\n",
    "    log_num = log_mm(log_fij, (log_fjk + tf.expand_dims(log_gjk, -1)))\n",
    "    log_fik = log_num - tf.expand_dims(log_den, -1)\n",
    "    log_gik = log_gij + log_den\n",
    "    \n",
    "    return log_fik, log_gik\n"
   ]
  },
  {
   "cell_type": "markdown",
   "metadata": {
    "id": "O2TFCMAGPBV9"
   },
   "source": [
    "#### Filter routine"
   ]
  },
  {
   "cell_type": "code",
   "execution_count": 32,
   "metadata": {
    "id": "qiSZ8sG4PBiF"
   },
   "outputs": [],
   "source": [
    "@tf.function\n",
    "def log_pbayesian_filter(model, obs, max_parallel=10000):\n",
    "    \"\"\" A routine to compute the Bayesian filtering log-space estimates in parallel. \n",
    "    Parameters\n",
    "    ----------\n",
    "    model: \n",
    "        an HMM model\n",
    "    obs: \n",
    "        observations\n",
    "    Returns\n",
    "    -------\n",
    "    final_elements: \n",
    "        filtering estimates\n",
    "    \"\"\"\n",
    "    initial_elements = log_pbayesian_filter_init(model, obs)\n",
    "    final_elements = tfp.math.scan_associative(log_pbayesian_filter_op, \n",
    "                                               initial_elements, \n",
    "                                               max_num_levels=math.ceil(math.log2(max_parallel)))\n",
    "    return final_elements[0][:,0]"
   ]
  },
  {
   "cell_type": "markdown",
   "metadata": {
    "id": "9tnBHXam0JY9"
   },
   "source": [
    "#### Smoother routine"
   ]
  },
  {
   "cell_type": "markdown",
   "metadata": {
    "id": "63wRXelZPxV1"
   },
   "source": [
    "#### Initialization routines"
   ]
  },
  {
   "cell_type": "code",
   "execution_count": 33,
   "metadata": {
    "id": "VwaOUJp0DwRb"
   },
   "outputs": [],
   "source": [
    "@tf.function\n",
    "def log_pbayesian_smoother_init_last(model, log_bayes_f): \n",
    "    a = tf.repeat(tf.expand_dims(log_bayes_f,0), repeats=log_bayes_f.shape[0], axis=0)\n",
    "    return a\n",
    "\n",
    "@tf.function\n",
    "def log_pbayesian_smoother_init_rest(model, log_bayes_fs):\n",
    "    log_pred = semilog_mv(model.Pi, log_bayes_fs, transpose_a=True)\n",
    "    a = tf.expand_dims(tf.transpose(model.log_Pi), 0) + tf.expand_dims(log_bayes_fs,-2) - log_pred[..., None]\n",
    "    return a\n",
    "\n",
    "@tf.function\n",
    "def log_pbayesian_smoother_init(model, log_bayes_fs):\n",
    "    \"\"\"A potential-based bayesian smoother init routine in log space to initialize last and generic elements.\"\"\"\n",
    "    \n",
    "    last_elems    = log_pbayesian_smoother_init_last(model, log_bayes_fs[-1])\n",
    "    generic_elems = log_pbayesian_smoother_init_rest(model, log_bayes_fs[:-1])\n",
    "    return tf.concat([generic_elems, tf.expand_dims(last_elems, 0)], axis=0)\n"
   ]
  },
  {
   "cell_type": "markdown",
   "metadata": {
    "id": "qDIfs3Q1P3jy"
   },
   "source": [
    "#### Smoother operator"
   ]
  },
  {
   "cell_type": "code",
   "execution_count": 34,
   "metadata": {
    "id": "Van-kZa5P3uZ"
   },
   "outputs": [],
   "source": [
    "@tf.function\n",
    "def log_pbayesian_smoother_op(elemjk, elemij):\n",
    "    return log_mm(elemjk, elemij)\n"
   ]
  },
  {
   "cell_type": "markdown",
   "metadata": {
    "id": "TkWYCIPFP31i"
   },
   "source": [
    "#### Smoother routine"
   ]
  },
  {
   "cell_type": "code",
   "execution_count": 35,
   "metadata": {
    "id": "qYIdwCcJP3-J"
   },
   "outputs": [],
   "source": [
    "@tf.function\n",
    "def log_pbayesian_smoother(model, log_bayes_fs, max_parallel=10000):\n",
    "    \"\"\" A routine to compute the Bayesian smoothers log-space estimates in parallel. \n",
    "\n",
    "    Parameters\n",
    "    ----------\n",
    "    model: \n",
    "        an HMM model\n",
    "    log_bayes_fs: \n",
    "        filtering estimates in log-space\n",
    "    Returns\n",
    "    -------\n",
    "    final_elements: \n",
    "        smoother estimates\n",
    "    \"\"\"\n",
    "    initial_elements = log_pbayesian_smoother_init(model, log_bayes_fs)\n",
    "    reversed_elements = tf.reverse(initial_elements, axis=[0])\n",
    "    final_elements = tfp.math.scan_associative(log_pbayesian_smoother_op, \n",
    "                                               reversed_elements, \n",
    "                                               max_num_levels=math.ceil(math.log2(max_parallel)))\n",
    "    return tf.reverse(final_elements[:,0], axis=[0])\n",
    "\n"
   ]
  },
  {
   "cell_type": "markdown",
   "metadata": {
    "id": "Dy7D_K5y0JY-"
   },
   "source": [
    "#### Filter-Smoother routine"
   ]
  },
  {
   "cell_type": "code",
   "execution_count": 36,
   "metadata": {
    "id": "iwmaNwRM0JY-"
   },
   "outputs": [],
   "source": [
    "@tf.function\n",
    "def log_pbayesian_filter_smoother(model, obs, max_parallel=10000):\n",
    "    \"\"\"A potential-based bayesian filter-smoother routine in log space to combine filter and smoother routines.\"\"\"\n",
    "    \n",
    "    log_pbayes_fs = log_pbayesian_filter(model, obs, max_parallel)\n",
    "    log_pbayes_ss = log_pbayesian_smoother(model, log_pbayes_fs, max_parallel)\n",
    "    return log_pbayes_fs, log_pbayes_ss\n"
   ]
  },
  {
   "cell_type": "markdown",
   "metadata": {
    "id": "S8GAo2qE0JY-"
   },
   "source": [
    "### Test and compare in log-space"
   ]
  },
  {
   "cell_type": "code",
   "execution_count": 37,
   "metadata": {
    "colab": {
     "base_uri": "https://localhost:8080/"
    },
    "id": "RfohsGNYFtkj",
    "outputId": "61b058a4-7a76-4bda-ded1-59580725c61b"
   },
   "outputs": [
    {
     "name": "stdout",
     "output_type": "stream",
     "text": [
      "Difference between parallel and log-space Bayesian filters:  nan\n",
      "Difference between parallel and log-space Bayesian smoothers:  nan\n",
      "tf.Tensor(-4.987723784880509, shape=(), dtype=float64)\n",
      "1.2572165530855273e-12\n"
     ]
    }
   ],
   "source": [
    "with tf.device('/CPU:0'):\n",
    "    pbayes_fs, pbayes_ss = pbayesian_filter_smoother(model, Y, max_parallel=100000)\n",
    "    log_pbayes_fs, log_pbayes_ss = log_pbayesian_filter_smoother(model, Y, max_parallel=100000)\n",
    "    print('Difference between parallel and log-space Bayesian filters: ', np.abs(pbayes_fs - tf.math.exp(log_pbayes_fs)).max())\n",
    "    print('Difference between parallel and log-space Bayesian smoothers: ', np.abs(pbayes_ss - tf.math.exp(log_pbayes_ss)).max())\n",
    "    print(tf.reduce_mean(log_pbayes_ss))\n",
    "    print(np.abs(log_pbayes_ss - log_bayes_ss).max())\n"
   ]
  },
  {
   "cell_type": "markdown",
   "metadata": {},
   "source": [
    "The results 'nan' are expected since pbayes_fs and pbayes_ss contain nan values. In sequential versions with a long horizon, the estimation becomes numerically unstable. "
   ]
  }
 ],
 "metadata": {
  "accelerator": "GPU",
  "colab": {
   "collapsed_sections": [],
   "machine_shape": "hm",
   "name": "phmm_classical.ipynb",
   "provenance": []
  },
  "kernelspec": {
   "display_name": "Python 3",
   "language": "python",
   "name": "python3"
  },
  "language_info": {
   "codemirror_mode": {
    "name": "ipython",
    "version": 3
   },
   "file_extension": ".py",
   "mimetype": "text/x-python",
   "name": "python",
   "nbconvert_exporter": "python",
   "pygments_lexer": "ipython3",
   "version": "3.8.3"
  }
 },
 "nbformat": 4,
 "nbformat_minor": 1
}

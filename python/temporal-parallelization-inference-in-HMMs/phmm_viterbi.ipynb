{
  "nbformat": 4,
  "nbformat_minor": 0,
  "metadata": {
    "accelerator": "GPU",
    "colab": {
      "name": "phmm_viterbi.ipynb",
      "provenance": [],
      "collapsed_sections": [],
      "machine_shape": "hm"
    },
    "kernelspec": {
      "display_name": "Python 3",
      "language": "python",
      "name": "python3"
    },
    "language_info": {
      "codemirror_mode": {
        "name": "ipython",
        "version": 3
      },
      "file_extension": ".py",
      "mimetype": "text/x-python",
      "name": "python",
      "nbconvert_exporter": "python",
      "pygments_lexer": "ipython3",
      "version": "3.8.3"
    }
  },
  "cells": [
    {
      "cell_type": "markdown",
      "metadata": {
        "id": "w-A676oSu4HF"
      },
      "source": [
        "# HMM inference and MAP estimation in Gilbert-Elliot channel model \n",
        "## TensorFlow implementation of Viterbi algorithm and the parallel version of it.\n",
        "\n",
        "This notebook implements the algorithms from Ref.[2]\n",
        "\n",
        "[2] S. S. Hassan, S. Särkkä and Á. F. García-Fernández, \"__Temporal Parallelization of Inference in Hidden Markov Models__,\" in *__IEEE Transactions on Signal Processing__*, vol. 69, pp. 4875-4887, 2021, doi: 10.1109/TSP.2021.3103338.\n",
        "\n"
      ]
    },
    {
      "cell_type": "markdown",
      "metadata": {
        "id": "B5TGeivbzxRI"
      },
      "source": [
        "### Imports and utilities"
      ]
    },
    {
      "cell_type": "code",
      "metadata": {
        "id": "vK5Nq0QJu_6j"
      },
      "source": [
        "# Python specific imports that will make our job easier and our code prettier\n",
        "from collections import namedtuple\n",
        "from functools import partial\n",
        "import math\n",
        "import time\n",
        "\n",
        "# TF specific imports that we will use to code the logic\n",
        "from tensorflow import function\n",
        "import tensorflow as tf\n",
        "import tensorflow_probability as tfp\n",
        "\n",
        "# Auxiliary libraries that we will use to report results and create the data\n",
        "import matplotlib.pyplot as plt\n",
        "import numpy as np\n",
        "import scipy as sc\n",
        "\n",
        "# Utilities\n",
        "mm = tf.linalg.matmul\n",
        "mv = tf.linalg.matvec\n",
        "\n",
        "# device = '/TPU:0'\n",
        "device = '/GPU:0'\n",
        "\n",
        "# check if device is available\n",
        "# tf.test.is_gpu_available()"
      ],
      "execution_count": 1,
      "outputs": []
    },
    {
      "cell_type": "markdown",
      "metadata": {
        "id": "WHKrIHFHwy0Z"
      },
      "source": [
        "### Model"
      ]
    },
    {
      "cell_type": "markdown",
      "metadata": {
        "id": "FygQyOGxzxRL"
      },
      "source": [
        "We consider the Gilbert-Elliot channel model. This is  a classical model used in the transmission of signals in digital communication channels. We consider two inputs: one for input signal and another for channel regime signal. They are binary signals and represented by $b_k$ and $s_k$, respectively. \n",
        "\n",
        "The input signal $b_k$ is flipped by an idependendent error. We can model this as \n",
        "$$\n",
        "y_k = b_k \\oplus v_k\n",
        "$$\n",
        "\n",
        "The regime channel signal $s_k$ is represented as two states hidden Markov model, which can have either a good or a bad channel condition. The good state has a low probability error, while the bad state can have a high probability error. If $v_k = 1$ i.e. an error occurs, where $y_k \\neq b_k$, then\n",
        "\n",
        "- $q_0$ represents the probability of the error in the good state.\n",
        "- $q_1$ represents the probability of the error in the bad state.\n",
        "\n",
        "The transition probability can be represented as\n",
        "\n",
        "- $p_0$: transition from high error state (bad state) to low error state (good state).\n",
        "- $p_1$: transition from low error state (good state) to high error state (bad state).\n",
        "- $p_2$: switching probability of $b_k$.\n",
        "\n",
        "The joint model $x_k = (s_k, b_k)$ is a four-state Markov chain. That is,\n",
        "$$\n",
        "x_k = \\{(0, 0), (0, 1), (1, 0), (1, 1)\\}\n",
        "$$ \n",
        "and encoded as $\\{0, 1, 2, 3\\}$. Our transition and observation matrices are as follows:\n",
        "\n",
        "\n",
        "$$\n",
        "\\Pi = p(x_k \\mid x_{k-1}) = \\begin{pmatrix}\n",
        "(1 - p_0)(1 - p_2) & p_0 (1 - p_2)   & (1 - p_0)p_2        & p_0 p_2 \\\\  \n",
        "p_1 (1 - p_2)      & (1-p_1) (1-p_2) & p_1 p_2             & (1- p_1) p_2 \\\\\n",
        "(1 - p_0)          & p_0 p_2         & (1 - p_0) (1 - p_2) & p_0  (1 - p_2) \\\\\n",
        "p_1 p_2            & (1 - p_1)p_2    & p_1 (1 - p_2)       & (1 - p_1) (1 - p_2)\n",
        "\\end{pmatrix}\n",
        "$$\n",
        "\n",
        "and\n",
        "\n",
        "$$\n",
        "O = p(y_k\\mid x_k) = \\begin{pmatrix}\n",
        "(1 - q_0) & q_0 \\\\\n",
        "(1 - q_1) & q_1 \\\\\n",
        "q_0 & (1 - q_0) \\\\\n",
        "q_1 & (1 - q_1)\n",
        "\\end{pmatrix}\n",
        "$$\n",
        "\n",
        "\n",
        "\n"
      ]
    },
    {
      "cell_type": "code",
      "metadata": {
        "id": "GiqvK_b_wHVK"
      },
      "source": [
        "class HMMModel:\n",
        "    def __init__(self, p0=0.03,  p1=0.1, p2=0.05, q0=0.01, q1=0.1):\n",
        "        \"\"\"Gilbert-Elliot channel model.\n",
        "        \n",
        "        :math:``\n",
        "            p0: `P(S_{k+1} = 1 | S_{k} = 0)`\n",
        "            p1: `P(S_{k+1} = 0 | S_{k} = 1)`\n",
        "            p2: `P(B_{k+1} = 1 | B_{k} = 0) = P(B_{k+1} = 0 | B_{k} = 1)`\n",
        "            q0: `P(Y_k != b | B_k = b, S_k = 0)`\n",
        "            q1: `P(Y_k != b | B_k = b, S_k = 1)`\n",
        "        \n",
        "        \"\"\"\n",
        "        # transition matrix\n",
        "        self.np_Pi = np.array([\n",
        "                               [(1-p0)*(1-p2), p0*(1-p2),     (1-p0)*p2,     p0*p2],\n",
        "                               [p1*(1-p2),     (1-p1)*(1-p2), p1*p2,         (1-p1)*p2],\n",
        "                               [(1-p0)*p2,     p0*p2,         (1-p0)*(1-p2), p0*(1-p2)],\n",
        "                               [p1*p2,         (1-p1)*p2,     p1*(1-p2),     (1-p1)*(1-p2)]\n",
        "                               ])\n",
        "        \n",
        "        # observation matrix\n",
        "        self.np_Po = np.array([ \n",
        "                               [(1-q0), q0],\n",
        "                               [(1-q1), q1],\n",
        "                               [q0, (1-q0)],\n",
        "                               [q1, (1-q1)]\n",
        "                            ])\n",
        "\n",
        "        # prior\n",
        "        self.np_prior = np.array([0.25, 0.25, 0.25, 0.25])\n",
        "\n",
        "        # convert to tensor\n",
        "        self.Pi    = tf.convert_to_tensor(self.np_Pi)\n",
        "        self.Po    = tf.convert_to_tensor(self.np_Po)\n",
        "        self.prior = tf.convert_to_tensor(self.np_prior)\n",
        "        \n",
        "        # dimensions\n",
        "        self.Pi_dim = self.Pi.shape[-1]\n",
        "        self.Po_dim = self.Po.shape[-1]\n",
        "        self.prior_dim = self.prior.shape[-1]\n",
        "\n",
        "        # transition, observation, and prior in log-space\n",
        "        self.log_Pi    = tf.math.log(self.Pi)\n",
        "        self.log_Po    = tf.math.log(self.Po)\n",
        "        self.log_prior = tf.math.log(self.prior)\n"
      ],
      "execution_count": 2,
      "outputs": []
    },
    {
      "cell_type": "code",
      "metadata": {
        "id": "lCDkYwoAzxRM"
      },
      "source": [
        "def catrnd(rng, p):\n",
        "    if p.ndim > 1:\n",
        "        p = p.squeeze()\n",
        "    \n",
        "    return rng.choice(p.shape[0], size=1,  p=p)\n",
        "    \n",
        "\n",
        "def simulate_data(model: HMMModel, steps:int, seed:int=1):\n",
        "    rng = np.random.default_rng(seed)\n",
        "    \n",
        "    X = np.zeros((steps, 1))\n",
        "    Y = np.zeros(steps, dtype=np.int64)\n",
        "    x = catrnd(rng, model.np_prior)\n",
        "    \n",
        "    for k in range(steps):\n",
        "        x = catrnd(rng, model.np_Pi[x])\n",
        "        y = catrnd(rng, model.np_Po[x])\n",
        "        X[k] = x\n",
        "        Y[k] = y\n",
        "    \n",
        "    return X, Y\n"
      ],
      "execution_count": 3,
      "outputs": []
    },
    {
      "cell_type": "markdown",
      "metadata": {
        "id": "6Ulz1zf0zxRN"
      },
      "source": [
        "#### Initialize the parameters"
      ]
    },
    {
      "cell_type": "code",
      "metadata": {
        "id": "3OJXpCtHzxRN"
      },
      "source": [
        "log10T = 5\n",
        "nsteps = 100\n",
        "T = np.arange(10 ** log10T)+1"
      ],
      "execution_count": 4,
      "outputs": []
    },
    {
      "cell_type": "markdown",
      "metadata": {
        "id": "Pa7Eh5qMzxRO"
      },
      "source": [
        "#### Initialize the model"
      ]
    },
    {
      "cell_type": "code",
      "metadata": {
        "id": "8XWBcn54zxRO"
      },
      "source": [
        "model = HMMModel()"
      ],
      "execution_count": 5,
      "outputs": []
    },
    {
      "cell_type": "markdown",
      "metadata": {
        "id": "S34XbyIGzxRO"
      },
      "source": [
        "#### Simulate the data"
      ]
    },
    {
      "cell_type": "code",
      "metadata": {
        "id": "HoDHVeFZzxRO"
      },
      "source": [
        "X, Y = simulate_data(model,10 ** log10T)"
      ],
      "execution_count": 6,
      "outputs": []
    },
    {
      "cell_type": "markdown",
      "metadata": {
        "id": "wqz2lD3SzxRP"
      },
      "source": [
        "#### Plot the simulated data"
      ]
    },
    {
      "cell_type": "code",
      "metadata": {
        "colab": {
          "base_uri": "https://localhost:8080/",
          "height": 297
        },
        "id": "omRIWAjIzxRP",
        "outputId": "182f4191-f8a7-4851-947a-e0b62b880eb3"
      },
      "source": [
        "plt.plot(T[:nsteps], X[:nsteps], '*-', T[:nsteps], Y[:nsteps], 'o--')\n",
        "plt.xlabel('Number of steps')\n",
        "plt.ylabel('States')\n",
        "plt.legend(['True states', 'Observed states'])"
      ],
      "execution_count": 7,
      "outputs": [
        {
          "output_type": "execute_result",
          "data": {
            "text/plain": [
              "<matplotlib.legend.Legend at 0x7fdc60776150>"
            ]
          },
          "metadata": {},
          "execution_count": 7
        },
        {
          "output_type": "display_data",
          "data": {
            "image/png": "[encoded data removed]",
            "text/plain": [
              "<Figure size 432x288 with 1 Axes>"
            ]
          },
          "metadata": {
            "needs_background": "light"
          }
        }
      ]
    },
    {
      "cell_type": "markdown",
      "metadata": {
        "id": "1Ffp-XeIFXM8"
      },
      "source": [
        "### Reference implementations for comparison and debugging"
      ]
    },
    {
      "cell_type": "code",
      "metadata": {
        "id": "b_WJXy1-Fawx"
      },
      "source": [
        "def ref_viterbi_classic(model, Y):\n",
        "    \"\"\"Reference classical viterbi implementation (path based)\n",
        "    \n",
        "    Parameters\n",
        "    ----------\n",
        "    model:\n",
        "        \n",
        "        HMM model\n",
        "    Y: array_like\n",
        "        Observations\n",
        "    Returns\n",
        "    -------\n",
        "    xmap: \n",
        "        MAP path\n",
        "    max_prob: \n",
        "        maximum probability\n",
        "    V_list: \n",
        "        probabilities of most probable paths\n",
        "    u_list: \n",
        "        most probable path sequence\n",
        "    \"\"\"\n",
        "    \n",
        "    \n",
        "    V_list = np.zeros((Y.shape[0], model.prior_dim, ))\n",
        "    u_list = np.zeros((Y.shape[0], model.prior_dim, ))\n",
        "    \n",
        "    V = model.Po[:, int(Y[0])] * model.prior\n",
        "    V_list[0] = V\n",
        "    u = [0] * model.prior.shape[0]\n",
        "    u_list[0] = u\n",
        "    for k in range(1, len(Y)):\n",
        "        psi = model.Po[:, int(Y[k])] * model.Pi\n",
        "        old_V = V\n",
        "        V = np.zeros(V.shape)\n",
        "        u = [0] * V.shape[0]\n",
        "        for i in range(psi.shape[0]):\n",
        "            tmp = psi[:, i] * old_V\n",
        "            u[i] = np.argmax(tmp)\n",
        "            V[i] = tmp[u[i]]\n",
        "        V_list[k] = V\n",
        "        u_list[k] = u\n",
        "        \n",
        "    xmap = [0] * len(Y)\n",
        "    xmap[-1] = np.argmax(V_list[-1])\n",
        "    max_prob = V_list[-1][xmap[-1]]\n",
        "    \n",
        "    for k in reversed(range(len(Y)-1)):\n",
        "        xmap[k] = int(u_list[k+1][xmap[k+1]])\n",
        "    \n",
        "    return xmap, max_prob, V_list, u_list\n",
        "\n",
        "\n",
        "def ref_viterbi_maxproduct(model, Y):\n",
        "    \"\"\"Reference viterbi max-product implementation\n",
        "    \n",
        "    Parameters\n",
        "    ----------\n",
        "    model: \n",
        "        HMM model\n",
        "    Y: array_like\n",
        "        Observations\n",
        "    Returns\n",
        "    -------\n",
        "    xmap: \n",
        "        MAP path\n",
        "    max_prob: \n",
        "        maximum probability\n",
        "    V_list: \n",
        "        probabilities of most probable paths in forward direction\n",
        "    W_list: \n",
        "        probabilities of most probable paths in reverse direction\n",
        "    \"\"\"\n",
        "    \n",
        "    \n",
        "    V_list = np.zeros((Y.shape[0], model.prior_dim, ))\n",
        "    V = model.Po[:, Y[0]] * model.prior\n",
        "    V_list[0] = V\n",
        "    for k in range(1,len(Y)):\n",
        "        psi = model.Po[:, Y[k]] * model.Pi\n",
        "        old_V = V\n",
        "        V = np.zeros(V.shape)\n",
        "        for i in range(psi.shape[1]):\n",
        "            tmp = psi[:, i] * old_V\n",
        "            V[i] = np.max(tmp)\n",
        "        V_list[k] = V\n",
        "\n",
        "    W_list = V_list.copy()\n",
        "    W = np.ones(model.Pi.shape[0])\n",
        "    W_list[-1] = W\n",
        "    for k in reversed(range(len(Y)-1)):\n",
        "        psi = model.Po[:, Y[k+1]] * model.Pi\n",
        "        \n",
        "        old_W = W\n",
        "        W = np.zeros(W.shape)\n",
        "        for i in range(psi.shape[0]):\n",
        "            tmp = psi[i, :] * old_W\n",
        "            W[i] = np.max(tmp)\n",
        "        W_list[k] = W\n",
        "    \n",
        "    xmap = []\n",
        "    for k in range(len(Y)):\n",
        "        tmp = V_list[k] * W_list[k]\n",
        "        ind = np.argmax(tmp)\n",
        "        max_prob = tmp[ind] # These are all equal\n",
        "        xmap.append(ind)\n",
        "        \n",
        "    return xmap, max_prob, V_list, W_list\n"
      ],
      "execution_count": 8,
      "outputs": []
    },
    {
      "cell_type": "markdown",
      "metadata": {
        "id": "vm6uWe0JzxRQ"
      },
      "source": [
        "#### Reference classical and potential-based Viterbi"
      ]
    },
    {
      "cell_type": "code",
      "metadata": {
        "colab": {
          "base_uri": "https://localhost:8080/"
        },
        "id": "lWCcSW9rzxRQ",
        "outputId": "b18b301e-0065-4663-f531-280ce277fae0"
      },
      "source": [
        "ref_xmap1, ref_max_prob1, ref_V_list1, ref_u_list1 = ref_viterbi_classic(model, Y)\n",
        "ref_xmap2, ref_max_prob2, ref_V_list2, ref_W_list2 = ref_viterbi_maxproduct(model, Y)\n",
        "print('Difference between classical and max-product based Viterbi: ', max([abs(a-b) for a, b in zip(ref_xmap1, ref_xmap2)]))\n",
        "print(ref_max_prob1)\n",
        "print(ref_max_prob2)"
      ],
      "execution_count": 9,
      "outputs": [
        {
          "output_type": "stream",
          "name": "stdout",
          "text": [
            "Difference between classical and max-product based Viterbi:  3\n",
            "0.0\n",
            "0.0\n"
          ]
        }
      ]
    },
    {
      "cell_type": "markdown",
      "metadata": {
        "id": "X8TB_g77zxRQ"
      },
      "source": [
        "### Plot for reference classical Viterbi implementation"
      ]
    },
    {
      "cell_type": "code",
      "metadata": {
        "colab": {
          "base_uri": "https://localhost:8080/",
          "height": 279
        },
        "id": "ZNh8-XjSs7O6",
        "outputId": "e86b3c11-e2b9-4766-c32c-1acaaa2362fe"
      },
      "source": [
        "plt.clf()\n",
        "plt.plot(T[:nsteps], X[:nsteps], '*-', T[:nsteps], [x for x in ref_xmap1[:nsteps]])\n",
        "plt.xlabel('Number of steps')\n",
        "plt.ylabel('States')\n",
        "plt.legend(['True states', 'Observed states'])\n",
        "plt.show()"
      ],
      "execution_count": 10,
      "outputs": [
        {
          "output_type": "display_data",
          "data": {
            "image/png": "[encoded data removed]",
            "text/plain": [
              "<Figure size 432x288 with 1 Axes>"
            ]
          },
          "metadata": {
            "needs_background": "light"
          }
        }
      ]
    },
    {
      "cell_type": "markdown",
      "metadata": {
        "id": "nQjmem2ZwHLL"
      },
      "source": [
        "### Utilities for log-space computations\n",
        "\n",
        "\n"
      ]
    },
    {
      "cell_type": "code",
      "metadata": {
        "colab": {
          "base_uri": "https://localhost:8080/"
        },
        "id": "5lPjL7LvwMiq",
        "outputId": "dc932d30-9b39-4e68-a4b1-b1f611ac4d26"
      },
      "source": [
        "@tf.function\n",
        "def log_mv(log_A, log_b, transpose_a=False):\n",
        "    Amax = tf.reduce_max(log_A, axis=(-1, -2), keepdims=True)\n",
        "    bmax = tf.reduce_max(log_b, axis=(-1), keepdims=True)\n",
        "    return tf.squeeze(Amax,axis=-1) + bmax + tf.math.log(mv(tf.math.exp(log_A - Amax), tf.math.exp(log_b - bmax), transpose_a=transpose_a))\n",
        "\n",
        "@tf.function\n",
        "def semilog_mv(A, log_b, transpose_a=False):\n",
        "    bmax = tf.reduce_max(log_b, axis=(-1), keepdims=True)\n",
        "    return bmax + tf.math.log(mv(A, tf.math.exp(log_b - bmax), transpose_a=transpose_a))\n",
        "\n",
        "@tf.function\n",
        "def log_mm(log_A, log_B, transpose_a=False,transpose_b=False):\n",
        "    Amax = tf.reduce_max(log_A, axis=(-1, -2), keepdims=True)\n",
        "    Bmax = tf.reduce_max(log_B, axis=(-1, -2), keepdims=True)\n",
        "    return Amax + Bmax + tf.math.log(mm(tf.math.exp(log_A - Amax), tf.math.exp(log_B - Bmax), transpose_a=transpose_a, transpose_b=transpose_b))\n",
        "\n",
        "@tf.function\n",
        "def log_normalize(log_p):\n",
        "    pmax = tf.reduce_max(log_p, axis=(-1), keepdims=True)\n",
        "    temp = tf.math.exp(log_p - pmax)\n",
        "    return tf.math.log(temp / tf.reduce_sum(temp, axis=-1, keepdims=True))\n",
        "\n",
        "print('Test utility functions:')\n",
        "with tf.device('/CPU:0'):\n",
        "    tf.random.set_seed(5)\n",
        "    A = tf.random.uniform(shape=[4, 4])\n",
        "    B = tf.random.uniform(shape=[4, 4])\n",
        "    log_A = tf.math.log(A)\n",
        "    log_B = tf.math.log(B)\n",
        "    print(mm(A, B))\n",
        "    print(tf.math.exp(log_mm(log_A, log_B)))\n",
        "\n",
        "    b = tf.random.uniform(shape=[4])\n",
        "    log_b = tf.math.log(b)\n",
        "    print(mv(A, b))\n",
        "    print(tf.math.exp(log_mv(log_A, log_b)))\n",
        "    print(tf.math.exp(semilog_mv(A, log_b)))\n",
        "\n",
        "    print(b / tf.reduce_sum(b, keepdims=True))\n",
        "    print(tf.math.exp(log_normalize(log_b)))\n"
      ],
      "execution_count": 11,
      "outputs": [
        {
          "output_type": "stream",
          "name": "stdout",
          "text": [
            "Test utility functions:\n",
            "tf.Tensor(\n",
            "[[1.4257064  1.0391585  0.7607688  1.0484284 ]\n",
            " [0.9447347  0.76951545 0.44059256 0.6164023 ]\n",
            " [0.35811597 0.34018368 0.16159499 0.33705997]\n",
            " [0.75753486 0.5810969  0.41004145 0.6656992 ]], shape=(4, 4), dtype=float32)\n",
            "tf.Tensor(\n",
            "[[1.4257064  1.0391583  0.7607688  1.0484283 ]\n",
            " [0.94473475 0.76951534 0.44059253 0.61640227]\n",
            " [0.35811597 0.3401837  0.161595   0.33705997]\n",
            " [0.75753486 0.58109677 0.41004142 0.6656991 ]], shape=(4, 4), dtype=float32)\n",
            "tf.Tensor([0.5768026  0.33639905 0.15708235 0.353592  ], shape=(4,), dtype=float32)\n",
            "tf.Tensor([0.5768026  0.33639905 0.15708235 0.35359204], shape=(4,), dtype=float32)\n",
            "tf.Tensor([0.5768026  0.3363991  0.15708235 0.35359204], shape=(4,), dtype=float32)\n",
            "tf.Tensor([0.19298144 0.3319118  0.0531239  0.42198285], shape=(4,), dtype=float32)\n",
            "tf.Tensor([0.19298144 0.3319118  0.0531239  0.42198288], shape=(4,), dtype=float32)\n"
          ]
        }
      ]
    },
    {
      "cell_type": "code",
      "metadata": {
        "id": "_OCdhTzmzxRR"
      },
      "source": [
        ""
      ],
      "execution_count": null,
      "outputs": []
    },
    {
      "cell_type": "markdown",
      "metadata": {
        "id": "WU_QVbGq1gP8"
      },
      "source": [
        "### Sequential Viterbi in classic and potential forms"
      ]
    },
    {
      "cell_type": "markdown",
      "metadata": {
        "id": "FJ36ReIN3DKC"
      },
      "source": [
        "#### Classic forward routine"
      ]
    },
    {
      "cell_type": "code",
      "metadata": {
        "id": "_bZqTHQK1l29"
      },
      "source": [
        "@tf.function\n",
        "def viterbi_classic_forward_pass(model, obs):\n",
        "    psi_full = tf.expand_dims(model.Po, 0) * tf.expand_dims(model.Pi, -1)\n",
        "\n",
        "    def body(carry, y): \n",
        "        V, _ = carry\n",
        "        psi = psi_full[..., y]\n",
        "        temp = psi * tf.expand_dims(V, -1)\n",
        "        V = tf.reduce_max(temp, axis=0)\n",
        "        u = tf.math.argmax(temp, axis=0)\n",
        "        return (V, u)\n",
        "\n",
        "    V = model.Po[:, obs[0]] * model.prior\n",
        "    u = tf.zeros_like(model.prior, dtype=tf.int64)\n",
        "    Vs, us = tf.scan(body, obs[1:], (V, u))\n",
        "    Vs = tf.concat([tf.expand_dims(V, 0), Vs], axis=0)\n",
        "    us = tf.concat([tf.expand_dims(u, 0), us], axis=0)\n",
        "    return Vs, us\n",
        "\n"
      ],
      "execution_count": 12,
      "outputs": []
    },
    {
      "cell_type": "markdown",
      "metadata": {
        "id": "UptBIYeX3Ngj"
      },
      "source": [
        "#### Classic backward routine"
      ]
    },
    {
      "cell_type": "code",
      "metadata": {
        "id": "G0FYf2qm3Nnr"
      },
      "source": [
        "@tf.function\n",
        "def viterbi_classic_backward_pass(model, us, Vend):\n",
        "    def body(carry, u):\n",
        "        x = carry\n",
        "        return u[x]\n",
        "\n",
        "    x = tf.argmax(Vend)\n",
        "    xs = tf.scan(body, us[1:], x, reverse=True)\n",
        "    return tf.concat([xs, tf.expand_dims(x, 0)], axis=0)\n"
      ],
      "execution_count": 13,
      "outputs": []
    },
    {
      "cell_type": "markdown",
      "metadata": {
        "id": "HjXD-oY23Nu6"
      },
      "source": [
        "#### Classic forward-backward routine"
      ]
    },
    {
      "cell_type": "code",
      "metadata": {
        "id": "ThhZ_BB-3N4X"
      },
      "source": [
        "@tf.function\n",
        "def viterbi_classic(model, obs):\n",
        "    Vs, us = viterbi_classic_forward_pass(model, obs)\n",
        "    xmap = viterbi_classic_backward_pass(model, us, Vs[-1])\n",
        "    return xmap\n",
        "\n"
      ],
      "execution_count": 14,
      "outputs": []
    },
    {
      "cell_type": "markdown",
      "metadata": {
        "id": "Q_6AgnZv3N_S"
      },
      "source": [
        "#### Potential-based forward routine"
      ]
    },
    {
      "cell_type": "code",
      "metadata": {
        "id": "0QPfcDbo3OGJ"
      },
      "source": [
        "@tf.function\n",
        "def viterbi_potential_forward_pass(model, obs):\n",
        "    psi_full = tf.expand_dims(model.Po, 0) * tf.expand_dims(model.Pi, -1)\n",
        "\n",
        "    def body(carry, y): \n",
        "        V = carry\n",
        "        psi = psi_full[..., y]\n",
        "        temp = psi * tf.expand_dims(V, -1)\n",
        "        V = tf.reduce_max(temp, axis=0)\n",
        "        return V\n",
        "\n",
        "    V = model.Po[:,obs[0]] * model.prior\n",
        "    Vs = tf.scan(body, obs[1:], V)\n",
        "    \n",
        "    return tf.concat([tf.expand_dims(V, 0), Vs], axis=0)\n"
      ],
      "execution_count": 15,
      "outputs": []
    },
    {
      "cell_type": "markdown",
      "metadata": {
        "id": "ltHhyCdO3OPp"
      },
      "source": [
        "#### Potential-based backward routine"
      ]
    },
    {
      "cell_type": "code",
      "metadata": {
        "id": "9EHT0jfO3OYS"
      },
      "source": [
        "@tf.function\n",
        "def viterbi_potential_backward_pass(model, obs):\n",
        "    psi_full = tf.expand_dims(model.Po, 0) * tf.expand_dims(model.Pi, -1)\n",
        "\n",
        "    def body(carry, y):\n",
        "        W = carry\n",
        "        psi = psi_full[..., y]\n",
        "        temp = psi * tf.expand_dims(W, 0)\n",
        "        W = tf.reduce_max(temp, axis=1)\n",
        "        return W\n",
        "  \n",
        "    W  = tf.ones_like(model.prior)\n",
        "    Ws = tf.scan(body, obs[1:], W, reverse=True)\n",
        "    return tf.concat([Ws, tf.expand_dims(W, 0)], 0)\n"
      ],
      "execution_count": 16,
      "outputs": []
    },
    {
      "cell_type": "markdown",
      "metadata": {
        "id": "GhWtGnON3Wnr"
      },
      "source": [
        "#### Potential-based smoother routine"
      ]
    },
    {
      "cell_type": "code",
      "metadata": {
        "id": "qfBfCvYF3WxA"
      },
      "source": [
        "@tf.function\n",
        "def viterbi_potential_smoother(model, obs):\n",
        "    Vs = viterbi_potential_forward_pass(model, obs)\n",
        "    Ws = viterbi_potential_backward_pass(model, obs)\n",
        "    V = Vs * Ws\n",
        "    return tf.math.argmax(V,axis=1)"
      ],
      "execution_count": 17,
      "outputs": []
    },
    {
      "cell_type": "markdown",
      "metadata": {
        "id": "4xVsMgtF3YQ8"
      },
      "source": [
        "#### Compare classic and potential-based smoother routines"
      ]
    },
    {
      "cell_type": "code",
      "metadata": {
        "colab": {
          "base_uri": "https://localhost:8080/"
        },
        "id": "D1JwrX0h-xoV",
        "outputId": "bf33ff11-7d2b-4904-fe12-1845d1675047"
      },
      "source": [
        "with tf.device('/CPU:0'):\n",
        "    \n",
        "    Vs, us = viterbi_classic_forward_pass(model, Y)\n",
        "    print(np.abs(Vs - tf.convert_to_tensor(ref_V_list1)).max())\n",
        "    print(np.abs(us - tf.convert_to_tensor(ref_u_list1, dtype=tf.int64)).max())\n",
        "\n",
        "    xmap = viterbi_classic_backward_pass(model, us, Vs[-1])\n",
        "    print(np.abs(xmap - tf.convert_to_tensor(ref_xmap1, dtype=tf.int64)).max())\n",
        "    \n",
        "    xmap = viterbi_classic(model, Y)\n",
        "    print(np.abs(xmap - tf.convert_to_tensor(ref_xmap1, dtype=tf.int64)).max())\n",
        "    \n",
        "    Vs2 = viterbi_potential_forward_pass(model, Y)\n",
        "    print(np.abs(Vs2 - Vs).max())\n",
        "    \n",
        "    Ws2 = viterbi_potential_backward_pass(model, Y)\n",
        "    print(np.abs(Ws2 - tf.convert_to_tensor(ref_W_list2)).max())\n",
        "    \n",
        "    xmap2 = viterbi_potential_smoother(model, Y)\n",
        "    print(np.abs(xmap2 - tf.convert_to_tensor(ref_xmap1, dtype=tf.int64)).max())"
      ],
      "execution_count": 18,
      "outputs": [
        {
          "output_type": "stream",
          "name": "stdout",
          "text": [
            "0.0\n",
            "3\n",
            "2\n",
            "2\n",
            "0.0\n",
            "0.0\n",
            "3\n"
          ]
        }
      ]
    },
    {
      "cell_type": "markdown",
      "metadata": {
        "id": "qbk-W1Z4Mono"
      },
      "source": [
        "### Log-space sequential Viterbi in classic and potential forms"
      ]
    },
    {
      "cell_type": "markdown",
      "metadata": {
        "id": "_-Y1y3Rm479b"
      },
      "source": [
        "#### Forward routine"
      ]
    },
    {
      "cell_type": "code",
      "metadata": {
        "id": "yCiswvDhMrJ9"
      },
      "source": [
        "@tf.function\n",
        "def log_viterbi_classic_forward_pass(model, obs):\n",
        "    log_psi_full = tf.expand_dims(model.log_Po, 0) + tf.expand_dims(model.log_Pi, -1)\n",
        "\n",
        "    def body(carry, y): \n",
        "        V, _ = carry\n",
        "        log_psi = log_psi_full[..., y]\n",
        "        temp = log_psi + tf.expand_dims(V, -1)\n",
        "        V = tf.reduce_max(temp, axis=0)\n",
        "        u = tf.math.argmax(temp, axis=0)\n",
        "        return (V, u)\n",
        "\n",
        "    V = model.log_Po[:, obs[0]] + model.log_prior\n",
        "    u = tf.zeros_like(model.log_prior, dtype=tf.int64)\n",
        "    Vs, us = tf.scan(body, obs[1:], (V, u))\n",
        "    Vs = tf.concat([tf.expand_dims(V, 0), Vs], axis=0)\n",
        "    us = tf.concat([tf.expand_dims(u, 0), us], axis=0)\n",
        "    return Vs, us\n"
      ],
      "execution_count": 19,
      "outputs": []
    },
    {
      "cell_type": "markdown",
      "metadata": {
        "id": "wZixX8XD4PCd"
      },
      "source": [
        "#### Backward routine"
      ]
    },
    {
      "cell_type": "code",
      "metadata": {
        "id": "J4jf1wfc4PKZ"
      },
      "source": [
        "@tf.function\n",
        "def log_viterbi_classic_backward_pass(model, us, Vend):\n",
        "    def body(carry, u):\n",
        "        x = carry\n",
        "        return u[x]\n",
        "\n",
        "    x = tf.argmax(Vend)\n",
        "    xs = tf.scan(body, us[1:], x, reverse=True)\n",
        "    return tf.concat([xs, tf.expand_dims(x, 0)], axis=0)\n"
      ],
      "execution_count": 20,
      "outputs": []
    },
    {
      "cell_type": "markdown",
      "metadata": {
        "id": "OJN4xe004PRi"
      },
      "source": [
        "#### Viterbi path routine"
      ]
    },
    {
      "cell_type": "code",
      "metadata": {
        "id": "_5LUzaE_4PYr"
      },
      "source": [
        "@tf.function\n",
        "def log_viterbi_classic(model, obs, max_parallel=0):\n",
        "    Vs, us = log_viterbi_classic_forward_pass(model, obs)\n",
        "    xmap = log_viterbi_classic_backward_pass(model, us, Vs[-1])\n",
        "    return xmap\n"
      ],
      "execution_count": 21,
      "outputs": []
    },
    {
      "cell_type": "markdown",
      "metadata": {
        "id": "u-Uj4_iv4Pfy"
      },
      "source": [
        "#### Potential based forward routine"
      ]
    },
    {
      "cell_type": "code",
      "metadata": {
        "id": "C9MVwXi44Pna"
      },
      "source": [
        "@tf.function\n",
        "def log_viterbi_potential_forward_pass(model, obs):\n",
        "    log_psi_full = tf.expand_dims(model.log_Po, 0) + tf.expand_dims(model.log_Pi, -1)\n",
        "\n",
        "    def body(carry, y): \n",
        "        V = carry\n",
        "        log_psi = log_psi_full[..., y]\n",
        "        temp = log_psi + tf.expand_dims(V, -1)\n",
        "        V = tf.reduce_max(temp, axis=0)\n",
        "        return V\n",
        "\n",
        "    V = model.log_Po[:,obs[0]] + model.log_prior\n",
        "    Vs = tf.scan(body, obs[1:], V)\n",
        "    \n",
        "    return tf.concat([tf.expand_dims(V, 0), Vs], axis=0)\n",
        "\n"
      ],
      "execution_count": 22,
      "outputs": []
    },
    {
      "cell_type": "markdown",
      "metadata": {
        "id": "lEBxKYgX4PvS"
      },
      "source": [
        "#### Potential based backward routine"
      ]
    },
    {
      "cell_type": "code",
      "metadata": {
        "id": "ztCu4bAE4P26"
      },
      "source": [
        "@tf.function\n",
        "def log_viterbi_potential_backward_pass(model, obs):\n",
        "    log_psi_full = tf.expand_dims(model.log_Po, 0) + tf.expand_dims(model.log_Pi, -1)\n",
        "\n",
        "    def body(carry, y):\n",
        "        W = carry\n",
        "        log_psi = log_psi_full[..., y]\n",
        "        temp = log_psi + tf.expand_dims(W, 0)\n",
        "        W = tf.reduce_max(temp, axis=1)\n",
        "        return W\n",
        "  \n",
        "    W  = tf.zeros_like(model.log_prior)\n",
        "    Ws = tf.scan(body, obs[1:], W, reverse=True)\n",
        "    return tf.concat([Ws, tf.expand_dims(W, 0)], 0)\n",
        "\n"
      ],
      "execution_count": 23,
      "outputs": []
    },
    {
      "cell_type": "markdown",
      "metadata": {
        "id": "_cs9JiNc4g-z"
      },
      "source": [
        "#### Potential based smoother routine"
      ]
    },
    {
      "cell_type": "code",
      "metadata": {
        "id": "na9dKrdV4hHa"
      },
      "source": [
        "@tf.function\n",
        "def log_viterbi_potential_smoother(model, obs, max_parallel=0):\n",
        "    Vs = log_viterbi_potential_forward_pass(model, obs)\n",
        "    Ws = log_viterbi_potential_backward_pass(model, obs)\n",
        "    V = Vs + Ws\n",
        "    return tf.math.argmax(V,axis=1)"
      ],
      "execution_count": 24,
      "outputs": []
    },
    {
      "cell_type": "markdown",
      "metadata": {
        "id": "LbCkwJw-5bpG"
      },
      "source": [
        "#### Compare the classical and log based Viterbi implementations"
      ]
    },
    {
      "cell_type": "code",
      "metadata": {
        "colab": {
          "base_uri": "https://localhost:8080/"
        },
        "id": "zlvnBhdCNc33",
        "outputId": "3d5c64e0-d328-441b-d4ea-de81520ad339"
      },
      "source": [
        "with tf.device('/CPU:0'):\n",
        "    \n",
        "    Vs, us = viterbi_classic_forward_pass(model, Y)\n",
        "    log_Vs, log_us = log_viterbi_classic_forward_pass(model, Y)\n",
        "    print(np.abs(Vs - tf.math.exp(log_Vs)).max())\n",
        "    print(np.abs(us - log_us).max())\n",
        "    xmap = viterbi_classic_backward_pass(model, us, Vs[-1])\n",
        "    log_xmap = log_viterbi_classic_backward_pass(model, log_us, log_Vs[-1])\n",
        "    print(np.abs(xmap - log_xmap).max())\n",
        "\n",
        "    Vs2 = viterbi_potential_forward_pass(model, Y)\n",
        "    log_Vs2 = log_viterbi_potential_forward_pass(model, Y)\n",
        "    print(np.abs(Vs2 - tf.math.exp(log_Vs2)).max())\n",
        "\n",
        "    Ws2 = viterbi_potential_backward_pass(model, Y)\n",
        "    log_Ws2 = log_viterbi_potential_backward_pass(model, Y)\n",
        "    print(np.abs(Ws2 - tf.math.exp(log_Ws2)).max())\n",
        "\n",
        "    xmap2 = viterbi_potential_smoother(model, Y)\n",
        "    log_xmap2 = log_viterbi_potential_smoother(model, Y)\n",
        "    print(np.abs(xmap2 - log_xmap2).max())\n",
        "    print(np.abs(log_xmap - log_xmap2).max())\n"
      ],
      "execution_count": 25,
      "outputs": [
        {
          "output_type": "stream",
          "name": "stdout",
          "text": [
            "8.326672684688674e-17\n",
            "3\n",
            "3\n",
            "8.326672684688674e-17\n",
            "1.1102230246251565e-16\n",
            "3\n",
            "2\n"
          ]
        }
      ]
    },
    {
      "cell_type": "markdown",
      "metadata": {
        "id": "xd_iG6j8O7n-"
      },
      "source": [
        "### Parallel Viterbi\n",
        "We  present  the  tensorflow implementation of parallel  max-product based Viterbi Algorithm 5 described in the paper. "
      ]
    },
    {
      "cell_type": "markdown",
      "metadata": {
        "id": "fCCz12Tj7Myj"
      },
      "source": [
        "#### Forward part"
      ]
    },
    {
      "cell_type": "markdown",
      "metadata": {
        "id": "EVlt5oW07Szz"
      },
      "source": [
        "#### Initialization routines"
      ]
    },
    {
      "cell_type": "code",
      "metadata": {
        "id": "nDgJTbB8O99N"
      },
      "source": [
        "@tf.function\n",
        "def parallel_forward_viterbi_init_first(model, y):\n",
        "    prior = tf.tile(tf.expand_dims(model.prior, axis=1), [1, model.prior.shape[0]])\n",
        "    psi = tf.multiply(model.Po[:, y], prior)\n",
        "    return psi\n",
        "\n",
        "@tf.function\n",
        "def parallel_forward_viterbi_init_rest(model, obs):\n",
        "    temp = tf.gather(tf.transpose(model.Po), obs, axis=0)\n",
        "    psi = tf.expand_dims(temp, 1) * tf.expand_dims(model.Pi, 0)\n",
        "    return psi\n",
        "\n",
        "@tf.function\n",
        "def parallel_forward_viterbi_init(model, obs):\n",
        "    first_elem = parallel_forward_viterbi_init_first(model, obs[0])\n",
        "    generic_elems = parallel_forward_viterbi_init_rest(model, obs[1:])\n",
        "    return tf.concat([tf.expand_dims(first_elem, 0), generic_elems], axis=0)\n"
      ],
      "execution_count": 26,
      "outputs": []
    },
    {
      "cell_type": "markdown",
      "metadata": {
        "id": "jml7Zt2D7oLG"
      },
      "source": [
        "#### Parallel forward operator"
      ]
    },
    {
      "cell_type": "code",
      "metadata": {
        "id": "l7TpoN4B7nmS"
      },
      "source": [
        "@tf.function\n",
        "def parallel_viterbi_op(elemij, elemjk):\n",
        "    elemij = tf.expand_dims(elemij, -1)\n",
        "    elemjk = tf.expand_dims(elemjk, 1)\n",
        "    return tf.reduce_max(elemij * elemjk, axis=2)\n",
        "  "
      ],
      "execution_count": 27,
      "outputs": []
    },
    {
      "cell_type": "markdown",
      "metadata": {
        "id": "NK1DTz7I8P_U"
      },
      "source": [
        "#### Parallel forward routine"
      ]
    },
    {
      "cell_type": "code",
      "metadata": {
        "id": "KxJ19PF98QGF"
      },
      "source": [
        "@tf.function\n",
        "def parallel_forward_viterbi(model, obs,  max_parallel=100000):\n",
        "    initial_elements = parallel_forward_viterbi_init(model, obs)\n",
        "    final_elements = tfp.math.scan_associative(parallel_viterbi_op,\n",
        "                                             initial_elements,\n",
        "                                             max_num_levels=math.ceil(math.log2(max_parallel)))\n",
        "    return final_elements[:,0]\n"
      ],
      "execution_count": 28,
      "outputs": []
    },
    {
      "cell_type": "markdown",
      "metadata": {
        "id": "o6wT6IQx7ppT"
      },
      "source": [
        "#### Backward part"
      ]
    },
    {
      "cell_type": "markdown",
      "metadata": {
        "id": "C8CnwQC68j9l"
      },
      "source": [
        "#### Initialization routines"
      ]
    },
    {
      "cell_type": "code",
      "metadata": {
        "id": "V3YxFbdr7RrK"
      },
      "source": [
        "@tf.function\n",
        "def parallel_backward_viterbi_init_last(model):\n",
        "    psi = tf.ones_like(model.Pi)\n",
        "    return psi\n",
        "\n",
        "@tf.function\n",
        "def parallel_backward_viterbi_init_rest(model, obs):\n",
        "    temp = tf.gather(tf.transpose(model.Po), obs, axis=0)\n",
        "    psi = tf.expand_dims(temp, 1) * tf.expand_dims(model.Pi, 0)\n",
        "    return psi\n",
        "\n",
        "@tf.function\n",
        "def parallel_backward_viterbi_init(model, obs):\n",
        "    last_elem = parallel_backward_viterbi_init_last(model)\n",
        "    generic_elems = parallel_backward_viterbi_init_rest(model, obs[1:])\n",
        "    return tf.concat([generic_elems, tf.expand_dims(last_elem, 0)], axis=0)\n"
      ],
      "execution_count": 29,
      "outputs": []
    },
    {
      "cell_type": "markdown",
      "metadata": {
        "id": "vQjzmlFH7w8M"
      },
      "source": [
        "#### Backward operator"
      ]
    },
    {
      "cell_type": "code",
      "metadata": {
        "id": "AvGHdobk7xDw"
      },
      "source": [
        "@tf.function\n",
        "def parallel_backward_viterbi_op(elemjk, elemij):\n",
        "    elemij = tf.expand_dims(elemij, -1)\n",
        "    elemjk = tf.expand_dims(elemjk, 1)\n",
        "    return tf.reduce_max(elemij * elemjk, axis=2)\n",
        "\n"
      ],
      "execution_count": 30,
      "outputs": []
    },
    {
      "cell_type": "markdown",
      "metadata": {
        "id": "3_6nk3z77xN8"
      },
      "source": [
        "#### Parallel backward routine"
      ]
    },
    {
      "cell_type": "code",
      "metadata": {
        "id": "f27eqOgd7xWj"
      },
      "source": [
        "@tf.function\n",
        "def parallel_backward_viterbi(model, obs, max_parallel=10000):\n",
        "    initial_elements = parallel_backward_viterbi_init(model, obs)\n",
        "    reversed_elements = tf.reverse(initial_elements, axis=[0])\n",
        "    final_elements = tfp.math.scan_associative(parallel_backward_viterbi_op,\n",
        "                                             reversed_elements,\n",
        "                                             max_num_levels=math.ceil(math.log2(max_parallel)))\n",
        "    final_elements = tf.reverse(final_elements, axis=[0])\n",
        "\n",
        "    return final_elements[..., 0]\n"
      ],
      "execution_count": 31,
      "outputs": []
    },
    {
      "cell_type": "markdown",
      "metadata": {
        "id": "0t7vPByD71o7"
      },
      "source": [
        "#### Parallel Viterbi path"
      ]
    },
    {
      "cell_type": "code",
      "metadata": {
        "id": "SAFd4dTq71wz"
      },
      "source": [
        "@tf.function\n",
        "def parallel_potential_viterbi(model, obs, max_parallel=10000):\n",
        "    vlist = parallel_forward_viterbi(model, obs, max_parallel)\n",
        "    wlist = parallel_backward_viterbi(model, obs, max_parallel)\n",
        "\n",
        "    prob = vlist * wlist\n",
        "    max_prob = tf.reduce_max(prob)\n",
        "    xmap = tf.squeeze(tf.math.argmax(prob, axis=1))\n",
        "    \n",
        "    return xmap"
      ],
      "execution_count": 32,
      "outputs": []
    },
    {
      "cell_type": "markdown",
      "metadata": {
        "id": "hzBv-sCj716j"
      },
      "source": [
        "#### Comparison with sequential and parallel Viterbi implementations"
      ]
    },
    {
      "cell_type": "code",
      "metadata": {
        "colab": {
          "base_uri": "https://localhost:8080/"
        },
        "id": "0vDiRS1TPicD",
        "outputId": "8e13c896-5ff0-458a-f45c-9704877d7c62"
      },
      "source": [
        "with tf.device('/CPU:0'):\n",
        "    xmap2 = viterbi_potential_smoother(model, Y)\n",
        "    xmap3 = viterbi_classic(model, Y)\n",
        "    xmap = parallel_potential_viterbi(model, Y, max_parallel=100000)\n",
        "    print('Diff between parallel and sequential potential-based Viterbi path: ', np.abs(xmap - xmap2).max())\n",
        "    print('Diff between parallel and sequential classical Viterbi path: ', np.abs(xmap - xmap3).max())\n",
        "    print(np.abs(xmap - tf.convert_to_tensor(ref_xmap1, dtype=tf.int64)).max())\n",
        "    print(np.abs(xmap2 - tf.convert_to_tensor(ref_xmap1, dtype=tf.int64)).max())\n",
        "    print(np.abs(xmap3 - tf.convert_to_tensor(ref_xmap1, dtype=tf.int64)).max())"
      ],
      "execution_count": 33,
      "outputs": [
        {
          "output_type": "stream",
          "name": "stdout",
          "text": [
            "Diff between parallel and sequential potential-based Viterbi path:  0\n",
            "Diff between parallel and sequential classical Viterbi path:  3\n",
            "3\n",
            "3\n",
            "2\n"
          ]
        }
      ]
    },
    {
      "cell_type": "markdown",
      "metadata": {
        "id": "YCWfXsbtOhG_"
      },
      "source": [
        "### Log-space parallel Viterbi"
      ]
    },
    {
      "cell_type": "markdown",
      "metadata": {
        "id": "8NNS5YeL94C6"
      },
      "source": [
        "#### Forward part\n",
        "#### Initialization routines"
      ]
    },
    {
      "cell_type": "code",
      "metadata": {
        "id": "2xpnSDf-94xi"
      },
      "source": [
        "@tf.function\n",
        "def log_parallel_forward_viterbi_init_first(model, y):\n",
        "    return tf.math.log(parallel_forward_viterbi_init_first(model, y))\n",
        "\n",
        "@tf.function\n",
        "def log_parallel_forward_viterbi_init_rest(model, obs):\n",
        "    return tf.math.log(parallel_forward_viterbi_init_rest(model, obs))\n",
        "\n",
        "@tf.function\n",
        "def log_parallel_forward_viterbi_init(model, obs):\n",
        "    first_elem = log_parallel_forward_viterbi_init_first(model, obs[0])\n",
        "    generic_elems = log_parallel_forward_viterbi_init_rest(model, obs[1:])\n",
        "    return tf.concat([tf.expand_dims(first_elem, 0), generic_elems], axis=0)\n"
      ],
      "execution_count": 34,
      "outputs": []
    },
    {
      "cell_type": "markdown",
      "metadata": {
        "id": "wc3Ch1rJ-DlE"
      },
      "source": [
        "#### Viterbi operator"
      ]
    },
    {
      "cell_type": "code",
      "metadata": {
        "id": "idvmB7WXOjaE"
      },
      "source": [
        "@tf.function\n",
        "def log_parallel_viterbi_op(elemij, elemjk):\n",
        "    elemij = tf.expand_dims(elemij, -1)\n",
        "    elemjk = tf.expand_dims(elemjk, 1)\n",
        "    return tf.reduce_max(elemij + elemjk, axis=2)\n"
      ],
      "execution_count": 35,
      "outputs": []
    },
    {
      "cell_type": "markdown",
      "metadata": {
        "id": "iffnW0Q5-M7C"
      },
      "source": [
        "#### Parallel forward routine"
      ]
    },
    {
      "cell_type": "code",
      "metadata": {
        "id": "c_8Ood9C-NGc"
      },
      "source": [
        "@tf.function\n",
        "def log_parallel_forward_viterbi(model, obs,  max_parallel=100000):\n",
        "    initial_elements = log_parallel_forward_viterbi_init(model, obs)\n",
        "    final_elements = tfp.math.scan_associative(log_parallel_viterbi_op,\n",
        "                                             initial_elements,\n",
        "                                             max_num_levels=math.ceil(math.log2(max_parallel)))\n",
        "    return final_elements[:,0]\n"
      ],
      "execution_count": 36,
      "outputs": []
    },
    {
      "cell_type": "markdown",
      "metadata": {
        "id": "UuQJ8LEM-6yT"
      },
      "source": [
        "#### Backward part"
      ]
    },
    {
      "cell_type": "markdown",
      "metadata": {
        "id": "UAbryy4M-NUA"
      },
      "source": [
        "#### Initialization routines"
      ]
    },
    {
      "cell_type": "code",
      "metadata": {
        "id": "pwqYDIqj-NeG"
      },
      "source": [
        "@tf.function\n",
        "def log_parallel_backward_viterbi_init_last(model):\n",
        "    log_psi = tf.zeros_like(model.log_Pi)\n",
        "    return log_psi\n",
        "\n",
        "@tf.function\n",
        "def log_parallel_backward_viterbi_init_rest(model, obs):\n",
        "    temp = tf.gather(tf.transpose(model.log_Po), obs, axis=0)\n",
        "    log_psi = tf.expand_dims(temp, 1) + tf.expand_dims(model.log_Pi, 0)\n",
        "    return log_psi\n",
        "\n",
        "@tf.function\n",
        "def log_parallel_backward_viterbi_init(model, obs):\n",
        "    last_elem = log_parallel_backward_viterbi_init_last(model)\n",
        "    generic_elems = log_parallel_backward_viterbi_init_rest(model, obs[1:])\n",
        "    return tf.concat([generic_elems, tf.expand_dims(last_elem, 0)], axis=0)\n"
      ],
      "execution_count": 37,
      "outputs": []
    },
    {
      "cell_type": "markdown",
      "metadata": {
        "id": "NHLsGnCn-Nnz"
      },
      "source": [
        "#### Backward operator"
      ]
    },
    {
      "cell_type": "code",
      "metadata": {
        "id": "9nqTMIGz-Nxe"
      },
      "source": [
        "@tf.function\n",
        "def log_parallel_backward_viterbi_op(elemjk, elemij):\n",
        "    elemij = tf.expand_dims(elemij, -1)\n",
        "    elemjk = tf.expand_dims(elemjk, 1)\n",
        "    return tf.reduce_max(elemij + elemjk, axis=2)\n"
      ],
      "execution_count": 38,
      "outputs": []
    },
    {
      "cell_type": "markdown",
      "metadata": {
        "id": "2ABfvbMm-N6z"
      },
      "source": [
        "#### Backward routine"
      ]
    },
    {
      "cell_type": "code",
      "metadata": {
        "id": "B8IERQTg-ODU"
      },
      "source": [
        "@tf.function\n",
        "def log_parallel_backward_viterbi(model, obs, max_parallel=100000):\n",
        "    initial_elements = log_parallel_backward_viterbi_init(model, obs)\n",
        "    reversed_elements = tf.reverse(initial_elements, axis=[0])\n",
        "    final_elements = tfp.math.scan_associative(log_parallel_backward_viterbi_op,\n",
        "                                             reversed_elements,\n",
        "                                             max_num_levels=math.ceil(math.log2(max_parallel)))\n",
        "    final_elements = tf.reverse(final_elements, axis=[0])\n",
        "\n",
        "    return final_elements[..., 0]\n",
        "\n"
      ],
      "execution_count": 39,
      "outputs": []
    },
    {
      "cell_type": "markdown",
      "metadata": {
        "id": "UrlrNte0-YmY"
      },
      "source": [
        "#### Parallel potential-based Viterbi forward-backward routine in log-space"
      ]
    },
    {
      "cell_type": "code",
      "metadata": {
        "id": "48bn3XC7-Y0R"
      },
      "source": [
        "@tf.function\n",
        "def log_parallel_potential_viterbi(model, obs, max_parallel=100000):\n",
        "    vlist = log_parallel_forward_viterbi(model, obs, max_parallel)\n",
        "    wlist = log_parallel_backward_viterbi(model, obs, max_parallel)\n",
        "\n",
        "    prob = vlist + wlist\n",
        "    max_prob = tf.reduce_max(prob)\n",
        "    xmap = tf.math.argmax(prob, axis=1)\n",
        "    \n",
        "    return xmap"
      ],
      "execution_count": 40,
      "outputs": []
    },
    {
      "cell_type": "markdown",
      "metadata": {
        "id": "txOMizyG-bgU"
      },
      "source": [
        "#### Comparison of different Viterbi implementations"
      ]
    },
    {
      "cell_type": "code",
      "metadata": {
        "colab": {
          "base_uri": "https://localhost:8080/"
        },
        "id": "47KNgV8TOjlw",
        "outputId": "78239643-30fe-4830-bd37-e89b4ac27fda"
      },
      "source": [
        "with tf.device('/CPU:0'):\n",
        "    xmap = parallel_potential_viterbi(model, Y, max_parallel=100000)\n",
        "    log_xmap = log_parallel_potential_viterbi(model, Y, max_parallel=100000)\n",
        "    log_xmap2 = log_viterbi_potential_smoother(model, Y)\n",
        "    log_xmap3 = log_viterbi_classic(model, Y)\n",
        "    log_xmap4 = viterbi_classic(model, Y)\n",
        "    print(np.abs(xmap - log_xmap).max())\n",
        "    print(np.abs(log_xmap2 - log_xmap).max())\n",
        "    print(np.abs(log_xmap3 - log_xmap).max())\n",
        "    print(np.abs(log_xmap3 - log_xmap2).max())\n",
        "    print(np.abs(log_xmap4 - log_xmap3).max())\n"
      ],
      "execution_count": 41,
      "outputs": [
        {
          "output_type": "stream",
          "name": "stdout",
          "text": [
            "3\n",
            "2\n",
            "2\n",
            "2\n",
            "3\n"
          ]
        }
      ]
    },
    {
      "cell_type": "markdown",
      "metadata": {
        "id": "VUlmlodBvNfY"
      },
      "source": [
        "### Performance analysis"
      ]
    },
    {
      "cell_type": "code",
      "metadata": {
        "id": "2fqZglmcvO1j"
      },
      "source": [
        "input_sizes = np.logspace(2, log10T, num=20, base=10).astype(int)\n",
        "n_iter = 100\n",
        "n_iter_seq = 10\n"
      ],
      "execution_count": null,
      "outputs": []
    },
    {
      "cell_type": "code",
      "metadata": {
        "id": "67ZJOauhvaJy"
      },
      "source": [
        "def get_average_runtimes(func, n_iter, model, observations):\n",
        "    runtimes = np.empty(input_sizes.shape)\n",
        "    for i, input_size in tqdm(enumerate(input_sizes), total=runtimes.shape[0]):\n",
        "        observation_slice = observations[:input_size]\n",
        "        max_parallel = int(input_size)\n",
        "        _ = func(model, observation_slice, max_parallel=max_parallel)  # compilation run\n",
        "        tic = time.time()\n",
        "        for _ in trange(n_iter, leave=False):\n",
        "            res = func(model, observation_slice, max_parallel=max_parallel)\n",
        "        runtimes[i] = (time.time() - tic) / n_iter\n",
        "    return runtimes"
      ],
      "execution_count": null,
      "outputs": []
    },
    {
      "cell_type": "code",
      "metadata": {
        "id": "nMJyFdJ9vhnO"
      },
      "source": [
        "with tf.device('/CPU:0'):\n",
        "    cpu_Y = tf.constant(Y)\n",
        "    cpu_sequential_runtimes3a = get_average_runtimes(log_viterbi_classic, n_iter_seq, model, cpu_Y)\n",
        "    cpu_sequential_runtimes3b = get_average_runtimes(log_viterbi_potential_smoother, n_iter_seq, model, cpu_Y)\n",
        "    cpu_parallel_runtimes3 = get_average_runtimes(log_parallel_potential_viterbi, n_iter, model, cpu_Y)\n",
        "    \n",
        "with tf.device(device):\n",
        "    xpu_Y = tf.constant(Y)\n",
        "    xpu_sequential_runtimes3a = get_average_runtimes(log_viterbi_classic, n_iter_seq, model, xpu_Y)\n",
        "    xpu_sequential_runtimes3b = get_average_runtimes(log_viterbi_potential_smoother, n_iter_seq, model, xpu_Y)\n",
        "    xpu_parallel_runtimes3 = get_average_runtimes(log_parallel_potential_viterbi, n_iter, model, xpu_Y)\n"
      ],
      "execution_count": null,
      "outputs": []
    },
    {
      "cell_type": "code",
      "metadata": {
        "colab": {
          "base_uri": "https://localhost:8080/",
          "height": 568
        },
        "id": "13DKAy5Dzxsa",
        "outputId": "5f05898c-abe1-49a2-99dd-621b7e334fde"
      },
      "source": [
        "fig = plt.figure(1, dpi=150)\n",
        "plt.loglog(input_sizes, cpu_sequential_runtimes3a, label=\"Viterbi C Sequential-CPU\", linestyle=\"-.\", linewidth=3)\n",
        "plt.loglog(input_sizes, cpu_sequential_runtimes3b, label=\"Viterbi P Sequential-CPU\", linestyle=\"-.\", linewidth=3)\n",
        "plt.loglog(input_sizes, cpu_parallel_runtimes3, label=\"Viterbi Parallel-CPU\", linewidth=3)\n",
        "plt.legend()\n",
        "plt.xlabel(\"Number of data points\")\n",
        "plt.ylabel(\"Average run time (seconds)\")\n",
        "plt.grid()\n",
        "plt.show()"
      ],
      "execution_count": null,
      "outputs": [
        {
          "data": {
            "image/png": "[encoded data removed]",
            "text/plain": [
              "<Figure size 900x600 with 1 Axes>"
            ]
          },
          "metadata": {
            "needs_background": "light"
          },
          "output_type": "display_data"
        }
      ]
    },
    {
      "cell_type": "code",
      "metadata": {
        "colab": {
          "base_uri": "https://localhost:8080/",
          "height": 568
        },
        "id": "xHA77tPvw4S0",
        "outputId": "e88290db-3a19-4c1b-b5fd-b168eb231d89"
      },
      "source": [
        "fig = plt.figure(1, dpi=150)\n",
        "plt.loglog(input_sizes, xpu_sequential_runtimes3a, label=\"Viterbi C Sequential-GPU\", linestyle=\"-.\", linewidth=3)\n",
        "plt.loglog(input_sizes, xpu_sequential_runtimes3b, label=\"Viterbi P Sequential-GPU\", linestyle=\"-.\", linewidth=3)\n",
        "plt.loglog(input_sizes, xpu_parallel_runtimes3, label=\"Viterbi Parallel-GPU\", linewidth=3)\n",
        "plt.legend()\n",
        "plt.xlabel(\"Number of data points\")\n",
        "plt.ylabel(\"Average run time (seconds)\")\n",
        "plt.grid()\n",
        "plt.show()"
      ],
      "execution_count": null,
      "outputs": [
        {
          "data": {
            "image/png": "[encoded data removed]",
            "text/plain": [
              "<Figure size 900x600 with 1 Axes>"
            ]
          },
          "metadata": {
            "needs_background": "light"
          },
          "output_type": "display_data"
        }
      ]
    }
  ]
}